{
 "cells": [
  {
   "cell_type": "code",
   "execution_count": 93,
   "metadata": {},
   "outputs": [],
   "source": [
    "import numpy as np\n",
    "import pandas as pd"
   ]
  },
  {
   "cell_type": "code",
   "execution_count": 94,
   "metadata": {},
   "outputs": [
    {
     "data": {
      "text/html": [
       "<div>\n",
       "<style scoped>\n",
       "    .dataframe tbody tr th:only-of-type {\n",
       "        vertical-align: middle;\n",
       "    }\n",
       "\n",
       "    .dataframe tbody tr th {\n",
       "        vertical-align: top;\n",
       "    }\n",
       "\n",
       "    .dataframe thead th {\n",
       "        text-align: right;\n",
       "    }\n",
       "</style>\n",
       "<table border=\"1\" class=\"dataframe\">\n",
       "  <thead>\n",
       "    <tr style=\"text-align: right;\">\n",
       "      <th></th>\n",
       "      <th>AccX</th>\n",
       "      <th>AccY</th>\n",
       "      <th>Class</th>\n",
       "      <th>DiffAccX</th>\n",
       "      <th>DiffAccY</th>\n",
       "    </tr>\n",
       "  </thead>\n",
       "  <tbody>\n",
       "    <tr>\n",
       "      <th>0</th>\n",
       "      <td>0.000000</td>\n",
       "      <td>0.000000</td>\n",
       "      <td>NORMAL</td>\n",
       "      <td>0.000000</td>\n",
       "      <td>0.000000</td>\n",
       "    </tr>\n",
       "    <tr>\n",
       "      <th>1</th>\n",
       "      <td>-1.624864</td>\n",
       "      <td>-1.082492</td>\n",
       "      <td>NORMAL</td>\n",
       "      <td>-1.624864</td>\n",
       "      <td>-1.082492</td>\n",
       "    </tr>\n",
       "    <tr>\n",
       "      <th>2</th>\n",
       "      <td>-0.594660</td>\n",
       "      <td>-0.122410</td>\n",
       "      <td>NORMAL</td>\n",
       "      <td>1.030204</td>\n",
       "      <td>0.960082</td>\n",
       "    </tr>\n",
       "    <tr>\n",
       "      <th>3</th>\n",
       "      <td>0.738478</td>\n",
       "      <td>-0.228456</td>\n",
       "      <td>NORMAL</td>\n",
       "      <td>1.333138</td>\n",
       "      <td>-0.106046</td>\n",
       "    </tr>\n",
       "    <tr>\n",
       "      <th>4</th>\n",
       "      <td>0.101741</td>\n",
       "      <td>0.777568</td>\n",
       "      <td>NORMAL</td>\n",
       "      <td>-0.636737</td>\n",
       "      <td>1.006023</td>\n",
       "    </tr>\n",
       "    <tr>\n",
       "      <th>...</th>\n",
       "      <td>...</td>\n",
       "      <td>...</td>\n",
       "      <td>...</td>\n",
       "      <td>...</td>\n",
       "      <td>...</td>\n",
       "    </tr>\n",
       "    <tr>\n",
       "      <th>3411</th>\n",
       "      <td>0.915688</td>\n",
       "      <td>-2.017489</td>\n",
       "      <td>SLOW</td>\n",
       "      <td>2.374675</td>\n",
       "      <td>-1.824629</td>\n",
       "    </tr>\n",
       "    <tr>\n",
       "      <th>3412</th>\n",
       "      <td>-1.934203</td>\n",
       "      <td>0.914925</td>\n",
       "      <td>SLOW</td>\n",
       "      <td>-2.849891</td>\n",
       "      <td>2.932414</td>\n",
       "    </tr>\n",
       "    <tr>\n",
       "      <th>3413</th>\n",
       "      <td>-0.222845</td>\n",
       "      <td>0.747304</td>\n",
       "      <td>SLOW</td>\n",
       "      <td>1.711359</td>\n",
       "      <td>-0.167621</td>\n",
       "    </tr>\n",
       "    <tr>\n",
       "      <th>3414</th>\n",
       "      <td>-0.349423</td>\n",
       "      <td>0.067261</td>\n",
       "      <td>SLOW</td>\n",
       "      <td>-0.126579</td>\n",
       "      <td>-0.680043</td>\n",
       "    </tr>\n",
       "    <tr>\n",
       "      <th>3415</th>\n",
       "      <td>-0.402428</td>\n",
       "      <td>0.406218</td>\n",
       "      <td>SLOW</td>\n",
       "      <td>-0.053005</td>\n",
       "      <td>0.338957</td>\n",
       "    </tr>\n",
       "  </tbody>\n",
       "</table>\n",
       "<p>3416 rows × 5 columns</p>\n",
       "</div>"
      ],
      "text/plain": [
       "          AccX      AccY   Class  DiffAccX  DiffAccY\n",
       "0     0.000000  0.000000  NORMAL  0.000000  0.000000\n",
       "1    -1.624864 -1.082492  NORMAL -1.624864 -1.082492\n",
       "2    -0.594660 -0.122410  NORMAL  1.030204  0.960082\n",
       "3     0.738478 -0.228456  NORMAL  1.333138 -0.106046\n",
       "4     0.101741  0.777568  NORMAL -0.636737  1.006023\n",
       "...        ...       ...     ...       ...       ...\n",
       "3411  0.915688 -2.017489    SLOW  2.374675 -1.824629\n",
       "3412 -1.934203  0.914925    SLOW -2.849891  2.932414\n",
       "3413 -0.222845  0.747304    SLOW  1.711359 -0.167621\n",
       "3414 -0.349423  0.067261    SLOW -0.126579 -0.680043\n",
       "3415 -0.402428  0.406218    SLOW -0.053005  0.338957\n",
       "\n",
       "[3416 rows x 5 columns]"
      ]
     },
     "execution_count": 94,
     "metadata": {},
     "output_type": "execute_result"
    }
   ],
   "source": [
    "df_training = pd.read_csv(\"../data_mod/train_motion_data.csv\")\n",
    "df_test = pd.read_csv(\"../data_mod/test_motion_data.csv\")\n",
    "\n",
    "df_training"
   ]
  },
  {
   "cell_type": "code",
   "execution_count": 95,
   "metadata": {},
   "outputs": [
    {
     "data": {
      "text/plain": [
       "AccX        0\n",
       "AccY        0\n",
       "Class       0\n",
       "DiffAccX    0\n",
       "DiffAccY    0\n",
       "dtype: int64"
      ]
     },
     "execution_count": 95,
     "metadata": {},
     "output_type": "execute_result"
    }
   ],
   "source": [
    "df_training.isna().sum()"
   ]
  },
  {
   "cell_type": "markdown",
   "metadata": {},
   "source": [
    "## Change categories to numbers"
   ]
  },
  {
   "cell_type": "code",
   "execution_count": 96,
   "metadata": {},
   "outputs": [
    {
     "data": {
      "text/html": [
       "<div>\n",
       "<style scoped>\n",
       "    .dataframe tbody tr th:only-of-type {\n",
       "        vertical-align: middle;\n",
       "    }\n",
       "\n",
       "    .dataframe tbody tr th {\n",
       "        vertical-align: top;\n",
       "    }\n",
       "\n",
       "    .dataframe thead th {\n",
       "        text-align: right;\n",
       "    }\n",
       "</style>\n",
       "<table border=\"1\" class=\"dataframe\">\n",
       "  <thead>\n",
       "    <tr style=\"text-align: right;\">\n",
       "      <th></th>\n",
       "      <th>AccX</th>\n",
       "      <th>AccY</th>\n",
       "      <th>Class</th>\n",
       "      <th>DiffAccX</th>\n",
       "      <th>DiffAccY</th>\n",
       "    </tr>\n",
       "  </thead>\n",
       "  <tbody>\n",
       "    <tr>\n",
       "      <th>0</th>\n",
       "      <td>0.000000</td>\n",
       "      <td>0.000000</td>\n",
       "      <td>0</td>\n",
       "      <td>0.000000</td>\n",
       "      <td>0.000000</td>\n",
       "    </tr>\n",
       "    <tr>\n",
       "      <th>1</th>\n",
       "      <td>-1.624864</td>\n",
       "      <td>-1.082492</td>\n",
       "      <td>0</td>\n",
       "      <td>-1.624864</td>\n",
       "      <td>-1.082492</td>\n",
       "    </tr>\n",
       "    <tr>\n",
       "      <th>2</th>\n",
       "      <td>-0.594660</td>\n",
       "      <td>-0.122410</td>\n",
       "      <td>0</td>\n",
       "      <td>1.030204</td>\n",
       "      <td>0.960082</td>\n",
       "    </tr>\n",
       "    <tr>\n",
       "      <th>3</th>\n",
       "      <td>0.738478</td>\n",
       "      <td>-0.228456</td>\n",
       "      <td>0</td>\n",
       "      <td>1.333138</td>\n",
       "      <td>-0.106046</td>\n",
       "    </tr>\n",
       "    <tr>\n",
       "      <th>4</th>\n",
       "      <td>0.101741</td>\n",
       "      <td>0.777568</td>\n",
       "      <td>0</td>\n",
       "      <td>-0.636737</td>\n",
       "      <td>1.006023</td>\n",
       "    </tr>\n",
       "    <tr>\n",
       "      <th>...</th>\n",
       "      <td>...</td>\n",
       "      <td>...</td>\n",
       "      <td>...</td>\n",
       "      <td>...</td>\n",
       "      <td>...</td>\n",
       "    </tr>\n",
       "    <tr>\n",
       "      <th>3411</th>\n",
       "      <td>0.915688</td>\n",
       "      <td>-2.017489</td>\n",
       "      <td>2</td>\n",
       "      <td>2.374675</td>\n",
       "      <td>-1.824629</td>\n",
       "    </tr>\n",
       "    <tr>\n",
       "      <th>3412</th>\n",
       "      <td>-1.934203</td>\n",
       "      <td>0.914925</td>\n",
       "      <td>2</td>\n",
       "      <td>-2.849891</td>\n",
       "      <td>2.932414</td>\n",
       "    </tr>\n",
       "    <tr>\n",
       "      <th>3413</th>\n",
       "      <td>-0.222845</td>\n",
       "      <td>0.747304</td>\n",
       "      <td>2</td>\n",
       "      <td>1.711359</td>\n",
       "      <td>-0.167621</td>\n",
       "    </tr>\n",
       "    <tr>\n",
       "      <th>3414</th>\n",
       "      <td>-0.349423</td>\n",
       "      <td>0.067261</td>\n",
       "      <td>2</td>\n",
       "      <td>-0.126579</td>\n",
       "      <td>-0.680043</td>\n",
       "    </tr>\n",
       "    <tr>\n",
       "      <th>3415</th>\n",
       "      <td>-0.402428</td>\n",
       "      <td>0.406218</td>\n",
       "      <td>2</td>\n",
       "      <td>-0.053005</td>\n",
       "      <td>0.338957</td>\n",
       "    </tr>\n",
       "  </tbody>\n",
       "</table>\n",
       "<p>3416 rows × 5 columns</p>\n",
       "</div>"
      ],
      "text/plain": [
       "          AccX      AccY  Class  DiffAccX  DiffAccY\n",
       "0     0.000000  0.000000      0  0.000000  0.000000\n",
       "1    -1.624864 -1.082492      0 -1.624864 -1.082492\n",
       "2    -0.594660 -0.122410      0  1.030204  0.960082\n",
       "3     0.738478 -0.228456      0  1.333138 -0.106046\n",
       "4     0.101741  0.777568      0 -0.636737  1.006023\n",
       "...        ...       ...    ...       ...       ...\n",
       "3411  0.915688 -2.017489      2  2.374675 -1.824629\n",
       "3412 -1.934203  0.914925      2 -2.849891  2.932414\n",
       "3413 -0.222845  0.747304      2  1.711359 -0.167621\n",
       "3414 -0.349423  0.067261      2 -0.126579 -0.680043\n",
       "3415 -0.402428  0.406218      2 -0.053005  0.338957\n",
       "\n",
       "[3416 rows x 5 columns]"
      ]
     },
     "execution_count": 96,
     "metadata": {},
     "output_type": "execute_result"
    }
   ],
   "source": [
    "df_training = df_training.replace(\n",
    "    {\"Class\": {\"NORMAL\": 0, \"AGGRESSIVE\": 1, \"SLOW\": 2}})\n",
    "df_test = df_test.replace(\n",
    "    {\"Class\": {\"NORMAL\": 0, \"AGGRESSIVE\": 1, \"SLOW\": 2}})\n",
    "df_training"
   ]
  },
  {
   "cell_type": "markdown",
   "metadata": {},
   "source": [
    "## Normalize the data"
   ]
  },
  {
   "cell_type": "code",
   "execution_count": 97,
   "metadata": {},
   "outputs": [
    {
     "data": {
      "text/html": [
       "<div>\n",
       "<style scoped>\n",
       "    .dataframe tbody tr th:only-of-type {\n",
       "        vertical-align: middle;\n",
       "    }\n",
       "\n",
       "    .dataframe tbody tr th {\n",
       "        vertical-align: top;\n",
       "    }\n",
       "\n",
       "    .dataframe thead th {\n",
       "        text-align: right;\n",
       "    }\n",
       "</style>\n",
       "<table border=\"1\" class=\"dataframe\">\n",
       "  <thead>\n",
       "    <tr style=\"text-align: right;\">\n",
       "      <th></th>\n",
       "      <th>AccX</th>\n",
       "      <th>AccY</th>\n",
       "      <th>DiffAccX</th>\n",
       "      <th>DiffAccY</th>\n",
       "      <th>Class</th>\n",
       "    </tr>\n",
       "  </thead>\n",
       "  <tbody>\n",
       "    <tr>\n",
       "      <th>0</th>\n",
       "      <td>-2.090819</td>\n",
       "      <td>8.424269</td>\n",
       "      <td>0.012037</td>\n",
       "      <td>-0.012577</td>\n",
       "      <td>0</td>\n",
       "    </tr>\n",
       "    <tr>\n",
       "      <th>1</th>\n",
       "      <td>-195.187234</td>\n",
       "      <td>-134.475048</td>\n",
       "      <td>-166.006943</td>\n",
       "      <td>-114.501443</td>\n",
       "      <td>0</td>\n",
       "    </tr>\n",
       "    <tr>\n",
       "      <th>2</th>\n",
       "      <td>-72.759319</td>\n",
       "      <td>-7.735009</td>\n",
       "      <td>105.272186</td>\n",
       "      <td>101.529709</td>\n",
       "      <td>0</td>\n",
       "    </tr>\n",
       "    <tr>\n",
       "      <th>3</th>\n",
       "      <td>85.668834</td>\n",
       "      <td>-21.734057</td>\n",
       "      <td>136.224200</td>\n",
       "      <td>-11.228412</td>\n",
       "      <td>0</td>\n",
       "    </tr>\n",
       "    <tr>\n",
       "      <th>4</th>\n",
       "      <td>9.999939</td>\n",
       "      <td>111.070663</td>\n",
       "      <td>-65.045995</td>\n",
       "      <td>106.388643</td>\n",
       "      <td>0</td>\n",
       "    </tr>\n",
       "    <tr>\n",
       "      <th>...</th>\n",
       "      <td>...</td>\n",
       "      <td>...</td>\n",
       "      <td>...</td>\n",
       "      <td>...</td>\n",
       "      <td>...</td>\n",
       "    </tr>\n",
       "    <tr>\n",
       "      <th>3411</th>\n",
       "      <td>106.728131</td>\n",
       "      <td>-257.903714</td>\n",
       "      <td>242.642233</td>\n",
       "      <td>-192.992960</td>\n",
       "      <td>2</td>\n",
       "    </tr>\n",
       "    <tr>\n",
       "      <th>3412</th>\n",
       "      <td>-231.948681</td>\n",
       "      <td>129.203106</td>\n",
       "      <td>-291.172960</td>\n",
       "      <td>310.131807</td>\n",
       "      <td>2</td>\n",
       "    </tr>\n",
       "    <tr>\n",
       "      <th>3413</th>\n",
       "      <td>-28.573341</td>\n",
       "      <td>107.075511</td>\n",
       "      <td>174.868553</td>\n",
       "      <td>-17.740887</td>\n",
       "      <td>2</td>\n",
       "    </tr>\n",
       "    <tr>\n",
       "      <th>3414</th>\n",
       "      <td>-43.615750</td>\n",
       "      <td>17.303333</td>\n",
       "      <td>-12.921013</td>\n",
       "      <td>-71.936747</td>\n",
       "      <td>2</td>\n",
       "    </tr>\n",
       "    <tr>\n",
       "      <th>3415</th>\n",
       "      <td>-49.914742</td>\n",
       "      <td>62.048954</td>\n",
       "      <td>-5.403663</td>\n",
       "      <td>35.836967</td>\n",
       "      <td>2</td>\n",
       "    </tr>\n",
       "  </tbody>\n",
       "</table>\n",
       "<p>3416 rows × 5 columns</p>\n",
       "</div>"
      ],
      "text/plain": [
       "            AccX        AccY    DiffAccX    DiffAccY  Class\n",
       "0      -2.090819    8.424269    0.012037   -0.012577      0\n",
       "1    -195.187234 -134.475048 -166.006943 -114.501443      0\n",
       "2     -72.759319   -7.735009  105.272186  101.529709      0\n",
       "3      85.668834  -21.734057  136.224200  -11.228412      0\n",
       "4       9.999939  111.070663  -65.045995  106.388643      0\n",
       "...          ...         ...         ...         ...    ...\n",
       "3411  106.728131 -257.903714  242.642233 -192.992960      2\n",
       "3412 -231.948681  129.203106 -291.172960  310.131807      2\n",
       "3413  -28.573341  107.075511  174.868553  -17.740887      2\n",
       "3414  -43.615750   17.303333  -12.921013  -71.936747      2\n",
       "3415  -49.914742   62.048954   -5.403663   35.836967      2\n",
       "\n",
       "[3416 rows x 5 columns]"
      ]
     },
     "execution_count": 97,
     "metadata": {},
     "output_type": "execute_result"
    }
   ],
   "source": [
    "X_train = df_training.drop(columns=[\"Class\"])\n",
    "X_train = (X_train - X_train.mean()) / X_train.std() * 100\n",
    "\n",
    "X_train[\"Class\"] = df_training[\"Class\"]\n",
    "X_train"
   ]
  },
  {
   "cell_type": "code",
   "execution_count": 98,
   "metadata": {},
   "outputs": [
    {
     "data": {
      "text/html": [
       "<div>\n",
       "<style scoped>\n",
       "    .dataframe tbody tr th:only-of-type {\n",
       "        vertical-align: middle;\n",
       "    }\n",
       "\n",
       "    .dataframe tbody tr th {\n",
       "        vertical-align: top;\n",
       "    }\n",
       "\n",
       "    .dataframe thead th {\n",
       "        text-align: right;\n",
       "    }\n",
       "</style>\n",
       "<table border=\"1\" class=\"dataframe\">\n",
       "  <thead>\n",
       "    <tr style=\"text-align: right;\">\n",
       "      <th></th>\n",
       "      <th>AccX</th>\n",
       "      <th>AccY</th>\n",
       "      <th>DiffAccX</th>\n",
       "      <th>DiffAccY</th>\n",
       "      <th>Class</th>\n",
       "    </tr>\n",
       "  </thead>\n",
       "  <tbody>\n",
       "    <tr>\n",
       "      <th>0</th>\n",
       "      <td>67.345100</td>\n",
       "      <td>-9.509000</td>\n",
       "      <td>-0.021340</td>\n",
       "      <td>-0.012385</td>\n",
       "      <td>1</td>\n",
       "    </tr>\n",
       "    <tr>\n",
       "      <th>1</th>\n",
       "      <td>57.982946</td>\n",
       "      <td>10.303100</td>\n",
       "      <td>-8.494392</td>\n",
       "      <td>16.758078</td>\n",
       "      <td>1</td>\n",
       "    </tr>\n",
       "    <tr>\n",
       "      <th>2</th>\n",
       "      <td>270.452050</td>\n",
       "      <td>-824.010358</td>\n",
       "      <td>192.270076</td>\n",
       "      <td>-706.238535</td>\n",
       "      <td>1</td>\n",
       "    </tr>\n",
       "    <tr>\n",
       "      <th>3</th>\n",
       "      <td>229.805029</td>\n",
       "      <td>-828.171460</td>\n",
       "      <td>-36.808209</td>\n",
       "      <td>-3.534656</td>\n",
       "      <td>1</td>\n",
       "    </tr>\n",
       "    <tr>\n",
       "      <th>4</th>\n",
       "      <td>283.133326</td>\n",
       "      <td>-732.402479</td>\n",
       "      <td>48.242495</td>\n",
       "      <td>81.053740</td>\n",
       "      <td>1</td>\n",
       "    </tr>\n",
       "    <tr>\n",
       "      <th>...</th>\n",
       "      <td>...</td>\n",
       "      <td>...</td>\n",
       "      <td>...</td>\n",
       "      <td>...</td>\n",
       "      <td>...</td>\n",
       "    </tr>\n",
       "    <tr>\n",
       "      <th>3079</th>\n",
       "      <td>-84.712435</td>\n",
       "      <td>-57.627689</td>\n",
       "      <td>-73.609489</td>\n",
       "      <td>-1.097380</td>\n",
       "      <td>2</td>\n",
       "    </tr>\n",
       "    <tr>\n",
       "      <th>3080</th>\n",
       "      <td>145.444037</td>\n",
       "      <td>51.068429</td>\n",
       "      <td>208.277716</td>\n",
       "      <td>91.996249</td>\n",
       "      <td>2</td>\n",
       "    </tr>\n",
       "    <tr>\n",
       "      <th>3081</th>\n",
       "      <td>121.268079</td>\n",
       "      <td>-177.287100</td>\n",
       "      <td>-21.901364</td>\n",
       "      <td>-193.309813</td>\n",
       "      <td>2</td>\n",
       "    </tr>\n",
       "    <tr>\n",
       "      <th>3082</th>\n",
       "      <td>83.265000</td>\n",
       "      <td>79.069807</td>\n",
       "      <td>-34.415357</td>\n",
       "      <td>216.987532</td>\n",
       "      <td>2</td>\n",
       "    </tr>\n",
       "    <tr>\n",
       "      <th>3083</th>\n",
       "      <td>140.063424</td>\n",
       "      <td>35.612446</td>\n",
       "      <td>51.383072</td>\n",
       "      <td>-36.797989</td>\n",
       "      <td>2</td>\n",
       "    </tr>\n",
       "  </tbody>\n",
       "</table>\n",
       "<p>3084 rows × 5 columns</p>\n",
       "</div>"
      ],
      "text/plain": [
       "            AccX        AccY    DiffAccX    DiffAccY  Class\n",
       "0      67.345100   -9.509000   -0.021340   -0.012385      1\n",
       "1      57.982946   10.303100   -8.494392   16.758078      1\n",
       "2     270.452050 -824.010358  192.270076 -706.238535      1\n",
       "3     229.805029 -828.171460  -36.808209   -3.534656      1\n",
       "4     283.133326 -732.402479   48.242495   81.053740      1\n",
       "...          ...         ...         ...         ...    ...\n",
       "3079  -84.712435  -57.627689  -73.609489   -1.097380      2\n",
       "3080  145.444037   51.068429  208.277716   91.996249      2\n",
       "3081  121.268079 -177.287100  -21.901364 -193.309813      2\n",
       "3082   83.265000   79.069807  -34.415357  216.987532      2\n",
       "3083  140.063424   35.612446   51.383072  -36.797989      2\n",
       "\n",
       "[3084 rows x 5 columns]"
      ]
     },
     "execution_count": 98,
     "metadata": {},
     "output_type": "execute_result"
    }
   ],
   "source": [
    "X_test = df_test.drop(columns=\"Class\")\n",
    "X_test = (X_test - X_test.mean()) / X_test.std() * 100\n",
    "\n",
    "X_test[\"Class\"] = df_test[\"Class\"]\n",
    "X_test"
   ]
  },
  {
   "cell_type": "markdown",
   "metadata": {},
   "source": [
    "## Train model"
   ]
  },
  {
   "cell_type": "code",
   "execution_count": 99,
   "metadata": {},
   "outputs": [],
   "source": [
    "X_training  = X_train.drop(columns=\"Class\")\n",
    "y_training  = X_train.Class\n",
    "\n",
    "X_testing = X_test.drop(columns=\"Class\")\n",
    "y_testing = X_test.Class"
   ]
  },
  {
   "cell_type": "code",
   "execution_count": 100,
   "metadata": {},
   "outputs": [],
   "source": [
    "from sklearn.naive_bayes import GaussianNB, MultinomialNB\n",
    "from sklearn.model_selection import GridSearchCV\n",
    "from sklearn.metrics import confusion_matrix, ConfusionMatrixDisplay"
   ]
  },
  {
   "cell_type": "code",
   "execution_count": 101,
   "metadata": {},
   "outputs": [
    {
     "data": {
      "text/html": [
       "<style>#sk-container-id-8 {color: black;background-color: white;}#sk-container-id-8 pre{padding: 0;}#sk-container-id-8 div.sk-toggleable {background-color: white;}#sk-container-id-8 label.sk-toggleable__label {cursor: pointer;display: block;width: 100%;margin-bottom: 0;padding: 0.3em;box-sizing: border-box;text-align: center;}#sk-container-id-8 label.sk-toggleable__label-arrow:before {content: \"▸\";float: left;margin-right: 0.25em;color: #696969;}#sk-container-id-8 label.sk-toggleable__label-arrow:hover:before {color: black;}#sk-container-id-8 div.sk-estimator:hover label.sk-toggleable__label-arrow:before {color: black;}#sk-container-id-8 div.sk-toggleable__content {max-height: 0;max-width: 0;overflow: hidden;text-align: left;background-color: #f0f8ff;}#sk-container-id-8 div.sk-toggleable__content pre {margin: 0.2em;color: black;border-radius: 0.25em;background-color: #f0f8ff;}#sk-container-id-8 input.sk-toggleable__control:checked~div.sk-toggleable__content {max-height: 200px;max-width: 100%;overflow: auto;}#sk-container-id-8 input.sk-toggleable__control:checked~label.sk-toggleable__label-arrow:before {content: \"▾\";}#sk-container-id-8 div.sk-estimator input.sk-toggleable__control:checked~label.sk-toggleable__label {background-color: #d4ebff;}#sk-container-id-8 div.sk-label input.sk-toggleable__control:checked~label.sk-toggleable__label {background-color: #d4ebff;}#sk-container-id-8 input.sk-hidden--visually {border: 0;clip: rect(1px 1px 1px 1px);clip: rect(1px, 1px, 1px, 1px);height: 1px;margin: -1px;overflow: hidden;padding: 0;position: absolute;width: 1px;}#sk-container-id-8 div.sk-estimator {font-family: monospace;background-color: #f0f8ff;border: 1px dotted black;border-radius: 0.25em;box-sizing: border-box;margin-bottom: 0.5em;}#sk-container-id-8 div.sk-estimator:hover {background-color: #d4ebff;}#sk-container-id-8 div.sk-parallel-item::after {content: \"\";width: 100%;border-bottom: 1px solid gray;flex-grow: 1;}#sk-container-id-8 div.sk-label:hover label.sk-toggleable__label {background-color: #d4ebff;}#sk-container-id-8 div.sk-serial::before {content: \"\";position: absolute;border-left: 1px solid gray;box-sizing: border-box;top: 0;bottom: 0;left: 50%;z-index: 0;}#sk-container-id-8 div.sk-serial {display: flex;flex-direction: column;align-items: center;background-color: white;padding-right: 0.2em;padding-left: 0.2em;position: relative;}#sk-container-id-8 div.sk-item {position: relative;z-index: 1;}#sk-container-id-8 div.sk-parallel {display: flex;align-items: stretch;justify-content: center;background-color: white;position: relative;}#sk-container-id-8 div.sk-item::before, #sk-container-id-8 div.sk-parallel-item::before {content: \"\";position: absolute;border-left: 1px solid gray;box-sizing: border-box;top: 0;bottom: 0;left: 50%;z-index: -1;}#sk-container-id-8 div.sk-parallel-item {display: flex;flex-direction: column;z-index: 1;position: relative;background-color: white;}#sk-container-id-8 div.sk-parallel-item:first-child::after {align-self: flex-end;width: 50%;}#sk-container-id-8 div.sk-parallel-item:last-child::after {align-self: flex-start;width: 50%;}#sk-container-id-8 div.sk-parallel-item:only-child::after {width: 0;}#sk-container-id-8 div.sk-dashed-wrapped {border: 1px dashed gray;margin: 0 0.4em 0.5em 0.4em;box-sizing: border-box;padding-bottom: 0.4em;background-color: white;}#sk-container-id-8 div.sk-label label {font-family: monospace;font-weight: bold;display: inline-block;line-height: 1.2em;}#sk-container-id-8 div.sk-label-container {text-align: center;}#sk-container-id-8 div.sk-container {/* jupyter's `normalize.less` sets `[hidden] { display: none; }` but bootstrap.min.css set `[hidden] { display: none !important; }` so we also need the `!important` here to be able to override the default hidden behavior on the sphinx rendered scikit-learn.org. See: https://github.com/scikit-learn/scikit-learn/issues/21755 */display: inline-block !important;position: relative;}#sk-container-id-8 div.sk-text-repr-fallback {display: none;}</style><div id=\"sk-container-id-8\" class=\"sk-top-container\"><div class=\"sk-text-repr-fallback\"><pre>GridSearchCV(cv=5, estimator=GaussianNB(), n_jobs=10,\n",
       "             param_grid={&#x27;var_smoothing&#x27;: [2, 1, 0.01, 0.0001, 1e-05, 1e-07,\n",
       "                                           1e-08, 1e-09, 1e-10, 1e-12]})</pre><b>In a Jupyter environment, please rerun this cell to show the HTML representation or trust the notebook. <br />On GitHub, the HTML representation is unable to render, please try loading this page with nbviewer.org.</b></div><div class=\"sk-container\" hidden><div class=\"sk-item sk-dashed-wrapped\"><div class=\"sk-label-container\"><div class=\"sk-label sk-toggleable\"><input class=\"sk-toggleable__control sk-hidden--visually\" id=\"sk-estimator-id-18\" type=\"checkbox\" ><label for=\"sk-estimator-id-18\" class=\"sk-toggleable__label sk-toggleable__label-arrow\">GridSearchCV</label><div class=\"sk-toggleable__content\"><pre>GridSearchCV(cv=5, estimator=GaussianNB(), n_jobs=10,\n",
       "             param_grid={&#x27;var_smoothing&#x27;: [2, 1, 0.01, 0.0001, 1e-05, 1e-07,\n",
       "                                           1e-08, 1e-09, 1e-10, 1e-12]})</pre></div></div></div><div class=\"sk-parallel\"><div class=\"sk-parallel-item\"><div class=\"sk-item\"><div class=\"sk-label-container\"><div class=\"sk-label sk-toggleable\"><input class=\"sk-toggleable__control sk-hidden--visually\" id=\"sk-estimator-id-19\" type=\"checkbox\" ><label for=\"sk-estimator-id-19\" class=\"sk-toggleable__label sk-toggleable__label-arrow\">estimator: GaussianNB</label><div class=\"sk-toggleable__content\"><pre>GaussianNB()</pre></div></div></div><div class=\"sk-serial\"><div class=\"sk-item\"><div class=\"sk-estimator sk-toggleable\"><input class=\"sk-toggleable__control sk-hidden--visually\" id=\"sk-estimator-id-20\" type=\"checkbox\" ><label for=\"sk-estimator-id-20\" class=\"sk-toggleable__label sk-toggleable__label-arrow\">GaussianNB</label><div class=\"sk-toggleable__content\"><pre>GaussianNB()</pre></div></div></div></div></div></div></div></div></div></div>"
      ],
      "text/plain": [
       "GridSearchCV(cv=5, estimator=GaussianNB(), n_jobs=10,\n",
       "             param_grid={'var_smoothing': [2, 1, 0.01, 0.0001, 1e-05, 1e-07,\n",
       "                                           1e-08, 1e-09, 1e-10, 1e-12]})"
      ]
     },
     "execution_count": 101,
     "metadata": {},
     "output_type": "execute_result"
    }
   ],
   "source": [
    "gnb = GaussianNB()\n",
    "param_grid = {'var_smoothing': [2, 1, 1e-2, 1e-4, 1e-5, 1e-7, 1e-8, 1e-9, 1e-10, 1e-12]}\n",
    "\n",
    "gnb_gscv = GridSearchCV(gnb, param_grid, cv=5, n_jobs=10)\n",
    "gnb_gscv.fit(X_training, y_training)"
   ]
  },
  {
   "cell_type": "code",
   "execution_count": 102,
   "metadata": {},
   "outputs": [
    {
     "data": {
      "text/plain": [
       "{'var_smoothing': 0.01}"
      ]
     },
     "execution_count": 102,
     "metadata": {},
     "output_type": "execute_result"
    }
   ],
   "source": [
    "gnb_gscv.best_params_"
   ]
  },
  {
   "cell_type": "code",
   "execution_count": 103,
   "metadata": {},
   "outputs": [
    {
     "data": {
      "text/plain": [
       "0.40280881559682513"
      ]
     },
     "execution_count": 103,
     "metadata": {},
     "output_type": "execute_result"
    }
   ],
   "source": [
    "gnb_gscv.best_score_"
   ]
  },
  {
   "cell_type": "code",
   "execution_count": 104,
   "metadata": {},
   "outputs": [
    {
     "data": {
      "text/plain": [
       "0.4162763466042155"
      ]
     },
     "execution_count": 104,
     "metadata": {},
     "output_type": "execute_result"
    }
   ],
   "source": [
    "gnb_gscv.score(X_training, y_training)"
   ]
  },
  {
   "cell_type": "code",
   "execution_count": 105,
   "metadata": {},
   "outputs": [
    {
     "data": {
      "text/plain": [
       "0.46206225680933855"
      ]
     },
     "execution_count": 105,
     "metadata": {},
     "output_type": "execute_result"
    }
   ],
   "source": [
    "gnb_gscv.score(X_testing, y_testing)"
   ]
  },
  {
   "cell_type": "code",
   "execution_count": 106,
   "metadata": {},
   "outputs": [],
   "source": [
    "classes = [\"NORMAL\", \"AGGRESIVE\", \"SLOW\"]"
   ]
  },
  {
   "cell_type": "code",
   "execution_count": 107,
   "metadata": {},
   "outputs": [
    {
     "data": {
      "text/plain": [
       "<sklearn.metrics._plot.confusion_matrix.ConfusionMatrixDisplay at 0x7f24d8e0c340>"
      ]
     },
     "execution_count": 107,
     "metadata": {},
     "output_type": "execute_result"
    },
    {
     "data": {
      "image/png": "[encoded data removed]",
      "text/plain": [
       "<Figure size 432x288 with 2 Axes>"
      ]
     },
     "metadata": {
      "needs_background": "light"
     },
     "output_type": "display_data"
    }
   ],
   "source": [
    "y_pred = gnb_gscv.predict(X_testing)\n",
    "\n",
    "CM = confusion_matrix(y_testing, y_pred)\n",
    "display = ConfusionMatrixDisplay(confusion_matrix=CM,\n",
    "                       display_labels=classes)\n",
    "display.plot()"
   ]
  },
  {
   "cell_type": "code",
   "execution_count": 108,
   "metadata": {},
   "outputs": [
    {
     "data": {
      "text/plain": [
       "<sklearn.metrics._plot.confusion_matrix.ConfusionMatrixDisplay at 0x7f24d8ab15b0>"
      ]
     },
     "execution_count": 108,
     "metadata": {},
     "output_type": "execute_result"
    },
    {
     "data": {
      "image/png": "[encoded data removed]",
      "text/plain": [
       "<Figure size 432x288 with 2 Axes>"
      ]
     },
     "metadata": {
      "needs_background": "light"
     },
     "output_type": "display_data"
    }
   ],
   "source": [
    "CM_norm = confusion_matrix(y_testing, y_pred, normalize=\"true\")\n",
    "display = ConfusionMatrixDisplay(confusion_matrix=CM_norm,\n",
    "                       display_labels=classes)\n",
    "display.plot()"
   ]
  },
  {
   "cell_type": "code",
   "execution_count": null,
   "metadata": {},
   "outputs": [],
   "source": []
  }
 ],
 "metadata": {
  "kernelspec": {
   "display_name": "Python 3.9.7 ('base')",
   "language": "python",
   "name": "python3"
  },
  "language_info": {
   "codemirror_mode": {
    "name": "ipython",
    "version": 3
   },
   "file_extension": ".py",
   "mimetype": "text/x-python",
   "name": "python",
   "nbconvert_exporter": "python",
   "pygments_lexer": "ipython3",
   "version": "3.9.7"
  },
  "orig_nbformat": 4,
  "vscode": {
   "interpreter": {
    "hash": "3e015569de52eef759f1e1f588a87233645ce0525ddc54b9ca350d557be76967"
   }
  }
 },
 "nbformat": 4,
 "nbformat_minor": 2
}
