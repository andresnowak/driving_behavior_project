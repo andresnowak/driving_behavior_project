{
 "cells": [
  {
   "cell_type": "markdown",
   "metadata": {},
   "source": [
    "## Binary Random Forest / KNN"
   ]
  },
  {
   "cell_type": "code",
   "execution_count": 144,
   "metadata": {},
   "outputs": [],
   "source": [
    "import numpy as np\n",
    "import pandas as pd\n",
    "import seaborn as sns\n",
    "import matplotlib.pyplot as plt"
   ]
  },
  {
   "cell_type": "code",
   "execution_count": 145,
   "metadata": {},
   "outputs": [
    {
     "data": {
      "text/html": [
       "<div>\n",
       "<style scoped>\n",
       "    .dataframe tbody tr th:only-of-type {\n",
       "        vertical-align: middle;\n",
       "    }\n",
       "\n",
       "    .dataframe tbody tr th {\n",
       "        vertical-align: top;\n",
       "    }\n",
       "\n",
       "    .dataframe thead th {\n",
       "        text-align: right;\n",
       "    }\n",
       "</style>\n",
       "<table border=\"1\" class=\"dataframe\">\n",
       "  <thead>\n",
       "    <tr style=\"text-align: right;\">\n",
       "      <th></th>\n",
       "      <th>AccX</th>\n",
       "      <th>AccY</th>\n",
       "      <th>GyroZ</th>\n",
       "      <th>Class</th>\n",
       "      <th>DiffAccX</th>\n",
       "      <th>DiffAccY</th>\n",
       "      <th>VelX</th>\n",
       "      <th>VelY</th>\n",
       "    </tr>\n",
       "  </thead>\n",
       "  <tbody>\n",
       "    <tr>\n",
       "      <th>0</th>\n",
       "      <td>0.000000</td>\n",
       "      <td>0.000000</td>\n",
       "      <td>0.101938</td>\n",
       "      <td>NORMAL</td>\n",
       "      <td>0.000000</td>\n",
       "      <td>0.000000</td>\n",
       "      <td>0.000000</td>\n",
       "      <td>0.000000</td>\n",
       "    </tr>\n",
       "    <tr>\n",
       "      <th>1</th>\n",
       "      <td>-1.624864</td>\n",
       "      <td>-1.082492</td>\n",
       "      <td>0.135536</td>\n",
       "      <td>NORMAL</td>\n",
       "      <td>-1.624864</td>\n",
       "      <td>-1.082492</td>\n",
       "      <td>-0.812432</td>\n",
       "      <td>-0.541246</td>\n",
       "    </tr>\n",
       "    <tr>\n",
       "      <th>2</th>\n",
       "      <td>-0.594660</td>\n",
       "      <td>-0.122410</td>\n",
       "      <td>0.087888</td>\n",
       "      <td>NORMAL</td>\n",
       "      <td>1.030204</td>\n",
       "      <td>0.960082</td>\n",
       "      <td>-0.297330</td>\n",
       "      <td>-0.061205</td>\n",
       "    </tr>\n",
       "    <tr>\n",
       "      <th>3</th>\n",
       "      <td>0.738478</td>\n",
       "      <td>-0.228456</td>\n",
       "      <td>0.054902</td>\n",
       "      <td>NORMAL</td>\n",
       "      <td>1.333138</td>\n",
       "      <td>-0.106046</td>\n",
       "      <td>0.369239</td>\n",
       "      <td>-0.114228</td>\n",
       "    </tr>\n",
       "    <tr>\n",
       "      <th>4</th>\n",
       "      <td>0.101741</td>\n",
       "      <td>0.777568</td>\n",
       "      <td>0.054902</td>\n",
       "      <td>NORMAL</td>\n",
       "      <td>-0.636737</td>\n",
       "      <td>1.006023</td>\n",
       "      <td>0.050871</td>\n",
       "      <td>0.388784</td>\n",
       "    </tr>\n",
       "    <tr>\n",
       "      <th>...</th>\n",
       "      <td>...</td>\n",
       "      <td>...</td>\n",
       "      <td>...</td>\n",
       "      <td>...</td>\n",
       "      <td>...</td>\n",
       "      <td>...</td>\n",
       "      <td>...</td>\n",
       "      <td>...</td>\n",
       "    </tr>\n",
       "    <tr>\n",
       "      <th>3639</th>\n",
       "      <td>0.915688</td>\n",
       "      <td>-2.017489</td>\n",
       "      <td>-1.236468</td>\n",
       "      <td>SLOW</td>\n",
       "      <td>2.374675</td>\n",
       "      <td>-1.824629</td>\n",
       "      <td>0.457844</td>\n",
       "      <td>-1.008745</td>\n",
       "    </tr>\n",
       "    <tr>\n",
       "      <th>3640</th>\n",
       "      <td>-1.934203</td>\n",
       "      <td>0.914925</td>\n",
       "      <td>-0.477162</td>\n",
       "      <td>SLOW</td>\n",
       "      <td>-2.849891</td>\n",
       "      <td>2.932414</td>\n",
       "      <td>-0.967102</td>\n",
       "      <td>0.457462</td>\n",
       "    </tr>\n",
       "    <tr>\n",
       "      <th>3641</th>\n",
       "      <td>-0.222845</td>\n",
       "      <td>0.747304</td>\n",
       "      <td>0.054291</td>\n",
       "      <td>SLOW</td>\n",
       "      <td>1.711359</td>\n",
       "      <td>-0.167621</td>\n",
       "      <td>-0.111422</td>\n",
       "      <td>0.373652</td>\n",
       "    </tr>\n",
       "    <tr>\n",
       "      <th>3642</th>\n",
       "      <td>-0.349423</td>\n",
       "      <td>0.067261</td>\n",
       "      <td>-0.004963</td>\n",
       "      <td>SLOW</td>\n",
       "      <td>-0.126579</td>\n",
       "      <td>-0.680043</td>\n",
       "      <td>-0.174712</td>\n",
       "      <td>0.033630</td>\n",
       "    </tr>\n",
       "    <tr>\n",
       "      <th>3643</th>\n",
       "      <td>-0.402428</td>\n",
       "      <td>0.406218</td>\n",
       "      <td>0.001145</td>\n",
       "      <td>SLOW</td>\n",
       "      <td>-0.053005</td>\n",
       "      <td>0.338957</td>\n",
       "      <td>-0.201214</td>\n",
       "      <td>0.203109</td>\n",
       "    </tr>\n",
       "  </tbody>\n",
       "</table>\n",
       "<p>3644 rows × 8 columns</p>\n",
       "</div>"
      ],
      "text/plain": [
       "          AccX      AccY     GyroZ   Class  DiffAccX  DiffAccY      VelX  \\\n",
       "0     0.000000  0.000000  0.101938  NORMAL  0.000000  0.000000  0.000000   \n",
       "1    -1.624864 -1.082492  0.135536  NORMAL -1.624864 -1.082492 -0.812432   \n",
       "2    -0.594660 -0.122410  0.087888  NORMAL  1.030204  0.960082 -0.297330   \n",
       "3     0.738478 -0.228456  0.054902  NORMAL  1.333138 -0.106046  0.369239   \n",
       "4     0.101741  0.777568  0.054902  NORMAL -0.636737  1.006023  0.050871   \n",
       "...        ...       ...       ...     ...       ...       ...       ...   \n",
       "3639  0.915688 -2.017489 -1.236468    SLOW  2.374675 -1.824629  0.457844   \n",
       "3640 -1.934203  0.914925 -0.477162    SLOW -2.849891  2.932414 -0.967102   \n",
       "3641 -0.222845  0.747304  0.054291    SLOW  1.711359 -0.167621 -0.111422   \n",
       "3642 -0.349423  0.067261 -0.004963    SLOW -0.126579 -0.680043 -0.174712   \n",
       "3643 -0.402428  0.406218  0.001145    SLOW -0.053005  0.338957 -0.201214   \n",
       "\n",
       "          VelY  \n",
       "0     0.000000  \n",
       "1    -0.541246  \n",
       "2    -0.061205  \n",
       "3    -0.114228  \n",
       "4     0.388784  \n",
       "...        ...  \n",
       "3639 -1.008745  \n",
       "3640  0.457462  \n",
       "3641  0.373652  \n",
       "3642  0.033630  \n",
       "3643  0.203109  \n",
       "\n",
       "[3644 rows x 8 columns]"
      ]
     },
     "execution_count": 145,
     "metadata": {},
     "output_type": "execute_result"
    }
   ],
   "source": [
    "df_train = pd.read_csv(\"../data_mod/train_motion_data.csv\")\n",
    "df_test = pd.read_csv(\"../data_mod/test_motion_data.csv\")\n",
    "\n",
    "df_train\n"
   ]
  },
  {
   "cell_type": "code",
   "execution_count": 146,
   "metadata": {},
   "outputs": [
    {
     "data": {
      "text/plain": [
       "AccX        0\n",
       "AccY        0\n",
       "GyroZ       0\n",
       "Class       0\n",
       "DiffAccX    0\n",
       "DiffAccY    0\n",
       "VelX        0\n",
       "VelY        0\n",
       "dtype: int64"
      ]
     },
     "execution_count": 146,
     "metadata": {},
     "output_type": "execute_result"
    }
   ],
   "source": [
    "df_train.isna().sum()"
   ]
  },
  {
   "cell_type": "markdown",
   "metadata": {},
   "source": [
    "### Change categories to numbers"
   ]
  },
  {
   "cell_type": "code",
   "execution_count": 147,
   "metadata": {},
   "outputs": [
    {
     "data": {
      "text/html": [
       "<div>\n",
       "<style scoped>\n",
       "    .dataframe tbody tr th:only-of-type {\n",
       "        vertical-align: middle;\n",
       "    }\n",
       "\n",
       "    .dataframe tbody tr th {\n",
       "        vertical-align: top;\n",
       "    }\n",
       "\n",
       "    .dataframe thead th {\n",
       "        text-align: right;\n",
       "    }\n",
       "</style>\n",
       "<table border=\"1\" class=\"dataframe\">\n",
       "  <thead>\n",
       "    <tr style=\"text-align: right;\">\n",
       "      <th></th>\n",
       "      <th>AccX</th>\n",
       "      <th>AccY</th>\n",
       "      <th>GyroZ</th>\n",
       "      <th>Class</th>\n",
       "      <th>DiffAccX</th>\n",
       "      <th>DiffAccY</th>\n",
       "      <th>VelX</th>\n",
       "      <th>VelY</th>\n",
       "    </tr>\n",
       "  </thead>\n",
       "  <tbody>\n",
       "    <tr>\n",
       "      <th>0</th>\n",
       "      <td>0.000000</td>\n",
       "      <td>0.000000</td>\n",
       "      <td>0.101938</td>\n",
       "      <td>1</td>\n",
       "      <td>0.000000</td>\n",
       "      <td>0.000000</td>\n",
       "      <td>0.000000</td>\n",
       "      <td>0.000000</td>\n",
       "    </tr>\n",
       "    <tr>\n",
       "      <th>1</th>\n",
       "      <td>-1.624864</td>\n",
       "      <td>-1.082492</td>\n",
       "      <td>0.135536</td>\n",
       "      <td>1</td>\n",
       "      <td>-1.624864</td>\n",
       "      <td>-1.082492</td>\n",
       "      <td>-0.812432</td>\n",
       "      <td>-0.541246</td>\n",
       "    </tr>\n",
       "    <tr>\n",
       "      <th>2</th>\n",
       "      <td>-0.594660</td>\n",
       "      <td>-0.122410</td>\n",
       "      <td>0.087888</td>\n",
       "      <td>1</td>\n",
       "      <td>1.030204</td>\n",
       "      <td>0.960082</td>\n",
       "      <td>-0.297330</td>\n",
       "      <td>-0.061205</td>\n",
       "    </tr>\n",
       "    <tr>\n",
       "      <th>3</th>\n",
       "      <td>0.738478</td>\n",
       "      <td>-0.228456</td>\n",
       "      <td>0.054902</td>\n",
       "      <td>1</td>\n",
       "      <td>1.333138</td>\n",
       "      <td>-0.106046</td>\n",
       "      <td>0.369239</td>\n",
       "      <td>-0.114228</td>\n",
       "    </tr>\n",
       "    <tr>\n",
       "      <th>4</th>\n",
       "      <td>0.101741</td>\n",
       "      <td>0.777568</td>\n",
       "      <td>0.054902</td>\n",
       "      <td>1</td>\n",
       "      <td>-0.636737</td>\n",
       "      <td>1.006023</td>\n",
       "      <td>0.050871</td>\n",
       "      <td>0.388784</td>\n",
       "    </tr>\n",
       "    <tr>\n",
       "      <th>...</th>\n",
       "      <td>...</td>\n",
       "      <td>...</td>\n",
       "      <td>...</td>\n",
       "      <td>...</td>\n",
       "      <td>...</td>\n",
       "      <td>...</td>\n",
       "      <td>...</td>\n",
       "      <td>...</td>\n",
       "    </tr>\n",
       "    <tr>\n",
       "      <th>3639</th>\n",
       "      <td>0.915688</td>\n",
       "      <td>-2.017489</td>\n",
       "      <td>-1.236468</td>\n",
       "      <td>0</td>\n",
       "      <td>2.374675</td>\n",
       "      <td>-1.824629</td>\n",
       "      <td>0.457844</td>\n",
       "      <td>-1.008745</td>\n",
       "    </tr>\n",
       "    <tr>\n",
       "      <th>3640</th>\n",
       "      <td>-1.934203</td>\n",
       "      <td>0.914925</td>\n",
       "      <td>-0.477162</td>\n",
       "      <td>0</td>\n",
       "      <td>-2.849891</td>\n",
       "      <td>2.932414</td>\n",
       "      <td>-0.967102</td>\n",
       "      <td>0.457462</td>\n",
       "    </tr>\n",
       "    <tr>\n",
       "      <th>3641</th>\n",
       "      <td>-0.222845</td>\n",
       "      <td>0.747304</td>\n",
       "      <td>0.054291</td>\n",
       "      <td>0</td>\n",
       "      <td>1.711359</td>\n",
       "      <td>-0.167621</td>\n",
       "      <td>-0.111422</td>\n",
       "      <td>0.373652</td>\n",
       "    </tr>\n",
       "    <tr>\n",
       "      <th>3642</th>\n",
       "      <td>-0.349423</td>\n",
       "      <td>0.067261</td>\n",
       "      <td>-0.004963</td>\n",
       "      <td>0</td>\n",
       "      <td>-0.126579</td>\n",
       "      <td>-0.680043</td>\n",
       "      <td>-0.174712</td>\n",
       "      <td>0.033630</td>\n",
       "    </tr>\n",
       "    <tr>\n",
       "      <th>3643</th>\n",
       "      <td>-0.402428</td>\n",
       "      <td>0.406218</td>\n",
       "      <td>0.001145</td>\n",
       "      <td>0</td>\n",
       "      <td>-0.053005</td>\n",
       "      <td>0.338957</td>\n",
       "      <td>-0.201214</td>\n",
       "      <td>0.203109</td>\n",
       "    </tr>\n",
       "  </tbody>\n",
       "</table>\n",
       "<p>3644 rows × 8 columns</p>\n",
       "</div>"
      ],
      "text/plain": [
       "          AccX      AccY     GyroZ  Class  DiffAccX  DiffAccY      VelX  \\\n",
       "0     0.000000  0.000000  0.101938      1  0.000000  0.000000  0.000000   \n",
       "1    -1.624864 -1.082492  0.135536      1 -1.624864 -1.082492 -0.812432   \n",
       "2    -0.594660 -0.122410  0.087888      1  1.030204  0.960082 -0.297330   \n",
       "3     0.738478 -0.228456  0.054902      1  1.333138 -0.106046  0.369239   \n",
       "4     0.101741  0.777568  0.054902      1 -0.636737  1.006023  0.050871   \n",
       "...        ...       ...       ...    ...       ...       ...       ...   \n",
       "3639  0.915688 -2.017489 -1.236468      0  2.374675 -1.824629  0.457844   \n",
       "3640 -1.934203  0.914925 -0.477162      0 -2.849891  2.932414 -0.967102   \n",
       "3641 -0.222845  0.747304  0.054291      0  1.711359 -0.167621 -0.111422   \n",
       "3642 -0.349423  0.067261 -0.004963      0 -0.126579 -0.680043 -0.174712   \n",
       "3643 -0.402428  0.406218  0.001145      0 -0.053005  0.338957 -0.201214   \n",
       "\n",
       "          VelY  \n",
       "0     0.000000  \n",
       "1    -0.541246  \n",
       "2    -0.061205  \n",
       "3    -0.114228  \n",
       "4     0.388784  \n",
       "...        ...  \n",
       "3639 -1.008745  \n",
       "3640  0.457462  \n",
       "3641  0.373652  \n",
       "3642  0.033630  \n",
       "3643  0.203109  \n",
       "\n",
       "[3644 rows x 8 columns]"
      ]
     },
     "execution_count": 147,
     "metadata": {},
     "output_type": "execute_result"
    }
   ],
   "source": [
    "df_train = df_train.replace(\n",
    "    {\"Class\": {\"SLOW\": 0, \"NORMAL\": 1, \"AGGRESSIVE\": 2}})\n",
    "df_test = df_test.replace(\n",
    "    {\"Class\": {\"SLOW\": 0, \"NORMAL\": 1, \"AGGRESSIVE\": 2}})\n",
    "df_train\n"
   ]
  },
  {
   "cell_type": "markdown",
   "metadata": {},
   "source": [
    "### Remove unnecessary columns"
   ]
  },
  {
   "cell_type": "code",
   "execution_count": 148,
   "metadata": {},
   "outputs": [],
   "source": [
    "# df_train.drop(['AccZ', 'GyroX', 'GyroY', 'Timestamp'], axis=1, inplace=True)\n",
    "# df_test.drop(['AccZ', 'GyroX', 'GyroY', 'Timestamp'], axis=1, inplace=True)\n",
    "\n",
    "# df_train"
   ]
  },
  {
   "cell_type": "markdown",
   "metadata": {},
   "source": [
    "### Only select normal and aggressive values"
   ]
  },
  {
   "cell_type": "code",
   "execution_count": 149,
   "metadata": {},
   "outputs": [
    {
     "data": {
      "text/html": [
       "<div>\n",
       "<style scoped>\n",
       "    .dataframe tbody tr th:only-of-type {\n",
       "        vertical-align: middle;\n",
       "    }\n",
       "\n",
       "    .dataframe tbody tr th {\n",
       "        vertical-align: top;\n",
       "    }\n",
       "\n",
       "    .dataframe thead th {\n",
       "        text-align: right;\n",
       "    }\n",
       "</style>\n",
       "<table border=\"1\" class=\"dataframe\">\n",
       "  <thead>\n",
       "    <tr style=\"text-align: right;\">\n",
       "      <th></th>\n",
       "      <th>AccX</th>\n",
       "      <th>AccY</th>\n",
       "      <th>GyroZ</th>\n",
       "      <th>Class</th>\n",
       "      <th>DiffAccX</th>\n",
       "      <th>DiffAccY</th>\n",
       "      <th>VelX</th>\n",
       "      <th>VelY</th>\n",
       "    </tr>\n",
       "  </thead>\n",
       "  <tbody>\n",
       "    <tr>\n",
       "      <th>0</th>\n",
       "      <td>0.000000</td>\n",
       "      <td>0.000000</td>\n",
       "      <td>0.101938</td>\n",
       "      <td>1</td>\n",
       "      <td>0.000000</td>\n",
       "      <td>0.000000</td>\n",
       "      <td>0.000000</td>\n",
       "      <td>0.000000</td>\n",
       "    </tr>\n",
       "    <tr>\n",
       "      <th>1</th>\n",
       "      <td>-1.624864</td>\n",
       "      <td>-1.082492</td>\n",
       "      <td>0.135536</td>\n",
       "      <td>1</td>\n",
       "      <td>-1.624864</td>\n",
       "      <td>-1.082492</td>\n",
       "      <td>-0.812432</td>\n",
       "      <td>-0.541246</td>\n",
       "    </tr>\n",
       "    <tr>\n",
       "      <th>2</th>\n",
       "      <td>-0.594660</td>\n",
       "      <td>-0.122410</td>\n",
       "      <td>0.087888</td>\n",
       "      <td>1</td>\n",
       "      <td>1.030204</td>\n",
       "      <td>0.960082</td>\n",
       "      <td>-0.297330</td>\n",
       "      <td>-0.061205</td>\n",
       "    </tr>\n",
       "    <tr>\n",
       "      <th>3</th>\n",
       "      <td>0.738478</td>\n",
       "      <td>-0.228456</td>\n",
       "      <td>0.054902</td>\n",
       "      <td>1</td>\n",
       "      <td>1.333138</td>\n",
       "      <td>-0.106046</td>\n",
       "      <td>0.369239</td>\n",
       "      <td>-0.114228</td>\n",
       "    </tr>\n",
       "    <tr>\n",
       "      <th>4</th>\n",
       "      <td>0.101741</td>\n",
       "      <td>0.777568</td>\n",
       "      <td>0.054902</td>\n",
       "      <td>1</td>\n",
       "      <td>-0.636737</td>\n",
       "      <td>1.006023</td>\n",
       "      <td>0.050871</td>\n",
       "      <td>0.388784</td>\n",
       "    </tr>\n",
       "    <tr>\n",
       "      <th>...</th>\n",
       "      <td>...</td>\n",
       "      <td>...</td>\n",
       "      <td>...</td>\n",
       "      <td>...</td>\n",
       "      <td>...</td>\n",
       "      <td>...</td>\n",
       "      <td>...</td>\n",
       "      <td>...</td>\n",
       "    </tr>\n",
       "    <tr>\n",
       "      <th>2308</th>\n",
       "      <td>0.538870</td>\n",
       "      <td>-1.645984</td>\n",
       "      <td>0.662712</td>\n",
       "      <td>2</td>\n",
       "      <td>0.200934</td>\n",
       "      <td>-0.962974</td>\n",
       "      <td>0.269435</td>\n",
       "      <td>-0.822992</td>\n",
       "    </tr>\n",
       "    <tr>\n",
       "      <th>2309</th>\n",
       "      <td>1.678918</td>\n",
       "      <td>-1.392127</td>\n",
       "      <td>-0.168675</td>\n",
       "      <td>2</td>\n",
       "      <td>1.140048</td>\n",
       "      <td>0.253856</td>\n",
       "      <td>0.839459</td>\n",
       "      <td>-0.696064</td>\n",
       "    </tr>\n",
       "    <tr>\n",
       "      <th>2310</th>\n",
       "      <td>0.323433</td>\n",
       "      <td>0.589311</td>\n",
       "      <td>0.639500</td>\n",
       "      <td>2</td>\n",
       "      <td>-1.355486</td>\n",
       "      <td>1.981439</td>\n",
       "      <td>0.161716</td>\n",
       "      <td>0.294656</td>\n",
       "    </tr>\n",
       "    <tr>\n",
       "      <th>2311</th>\n",
       "      <td>2.497311</td>\n",
       "      <td>-0.606175</td>\n",
       "      <td>-0.240757</td>\n",
       "      <td>2</td>\n",
       "      <td>2.173878</td>\n",
       "      <td>-1.195487</td>\n",
       "      <td>1.248655</td>\n",
       "      <td>-0.303088</td>\n",
       "    </tr>\n",
       "    <tr>\n",
       "      <th>2312</th>\n",
       "      <td>0.482297</td>\n",
       "      <td>-0.090277</td>\n",
       "      <td>-0.383700</td>\n",
       "      <td>2</td>\n",
       "      <td>-2.015014</td>\n",
       "      <td>0.515898</td>\n",
       "      <td>0.241148</td>\n",
       "      <td>-0.045139</td>\n",
       "    </tr>\n",
       "  </tbody>\n",
       "</table>\n",
       "<p>2313 rows × 8 columns</p>\n",
       "</div>"
      ],
      "text/plain": [
       "          AccX      AccY     GyroZ  Class  DiffAccX  DiffAccY      VelX  \\\n",
       "0     0.000000  0.000000  0.101938      1  0.000000  0.000000  0.000000   \n",
       "1    -1.624864 -1.082492  0.135536      1 -1.624864 -1.082492 -0.812432   \n",
       "2    -0.594660 -0.122410  0.087888      1  1.030204  0.960082 -0.297330   \n",
       "3     0.738478 -0.228456  0.054902      1  1.333138 -0.106046  0.369239   \n",
       "4     0.101741  0.777568  0.054902      1 -0.636737  1.006023  0.050871   \n",
       "...        ...       ...       ...    ...       ...       ...       ...   \n",
       "2308  0.538870 -1.645984  0.662712      2  0.200934 -0.962974  0.269435   \n",
       "2309  1.678918 -1.392127 -0.168675      2  1.140048  0.253856  0.839459   \n",
       "2310  0.323433  0.589311  0.639500      2 -1.355486  1.981439  0.161716   \n",
       "2311  2.497311 -0.606175 -0.240757      2  2.173878 -1.195487  1.248655   \n",
       "2312  0.482297 -0.090277 -0.383700      2 -2.015014  0.515898  0.241148   \n",
       "\n",
       "          VelY  \n",
       "0     0.000000  \n",
       "1    -0.541246  \n",
       "2    -0.061205  \n",
       "3    -0.114228  \n",
       "4     0.388784  \n",
       "...        ...  \n",
       "2308 -0.822992  \n",
       "2309 -0.696064  \n",
       "2310  0.294656  \n",
       "2311 -0.303088  \n",
       "2312 -0.045139  \n",
       "\n",
       "[2313 rows x 8 columns]"
      ]
     },
     "execution_count": 149,
     "metadata": {},
     "output_type": "execute_result"
    }
   ],
   "source": [
    "df_train = df_train.loc[df_train['Class'] != 0]\n",
    "df_test = df_test.loc[df_test['Class'] != 0]\n",
    "\n",
    "df_train"
   ]
  },
  {
   "cell_type": "code",
   "execution_count": 150,
   "metadata": {},
   "outputs": [],
   "source": [
    "X_train = df_train.drop(columns=[\"Class\"])\n",
    "y_train = df_train['Class']\n",
    "\n",
    "X_test = df_test.drop(columns=[\"Class\"])\n",
    "y_test = df_test['Class']"
   ]
  },
  {
   "cell_type": "markdown",
   "metadata": {},
   "source": [
    "### Normalize data"
   ]
  },
  {
   "cell_type": "code",
   "execution_count": 151,
   "metadata": {},
   "outputs": [
    {
     "data": {
      "text/html": [
       "<div>\n",
       "<style scoped>\n",
       "    .dataframe tbody tr th:only-of-type {\n",
       "        vertical-align: middle;\n",
       "    }\n",
       "\n",
       "    .dataframe tbody tr th {\n",
       "        vertical-align: top;\n",
       "    }\n",
       "\n",
       "    .dataframe thead th {\n",
       "        text-align: right;\n",
       "    }\n",
       "</style>\n",
       "<table border=\"1\" class=\"dataframe\">\n",
       "  <thead>\n",
       "    <tr style=\"text-align: right;\">\n",
       "      <th></th>\n",
       "      <th>AccX</th>\n",
       "      <th>AccY</th>\n",
       "      <th>GyroZ</th>\n",
       "      <th>DiffAccX</th>\n",
       "      <th>DiffAccY</th>\n",
       "      <th>VelX</th>\n",
       "      <th>VelY</th>\n",
       "    </tr>\n",
       "  </thead>\n",
       "  <tbody>\n",
       "    <tr>\n",
       "      <th>0</th>\n",
       "      <td>-3.509345</td>\n",
       "      <td>9.776257</td>\n",
       "      <td>74.896498</td>\n",
       "      <td>-0.018756</td>\n",
       "      <td>0.003491</td>\n",
       "      <td>-3.509345</td>\n",
       "      <td>9.776257</td>\n",
       "    </tr>\n",
       "    <tr>\n",
       "      <th>1</th>\n",
       "      <td>-157.992905</td>\n",
       "      <td>-99.985349</td>\n",
       "      <td>102.351035</td>\n",
       "      <td>-146.171580</td>\n",
       "      <td>-96.829548</td>\n",
       "      <td>-157.992905</td>\n",
       "      <td>-99.985349</td>\n",
       "    </tr>\n",
       "    <tr>\n",
       "      <th>2</th>\n",
       "      <td>-60.046498</td>\n",
       "      <td>-2.635757</td>\n",
       "      <td>63.415515</td>\n",
       "      <td>92.645759</td>\n",
       "      <td>85.886499</td>\n",
       "      <td>-60.046498</td>\n",
       "      <td>-2.635757</td>\n",
       "    </tr>\n",
       "    <tr>\n",
       "      <th>3</th>\n",
       "      <td>66.701299</td>\n",
       "      <td>-13.388488</td>\n",
       "      <td>36.460154</td>\n",
       "      <td>119.893994</td>\n",
       "      <td>-9.482701</td>\n",
       "      <td>66.701299</td>\n",
       "      <td>-13.388488</td>\n",
       "    </tr>\n",
       "    <tr>\n",
       "      <th>4</th>\n",
       "      <td>6.163664</td>\n",
       "      <td>88.619412</td>\n",
       "      <td>36.460154</td>\n",
       "      <td>-57.291816</td>\n",
       "      <td>89.996116</td>\n",
       "      <td>6.163664</td>\n",
       "      <td>88.619412</td>\n",
       "    </tr>\n",
       "    <tr>\n",
       "      <th>...</th>\n",
       "      <td>...</td>\n",
       "      <td>...</td>\n",
       "      <td>...</td>\n",
       "      <td>...</td>\n",
       "      <td>...</td>\n",
       "      <td>...</td>\n",
       "      <td>...</td>\n",
       "    </tr>\n",
       "    <tr>\n",
       "      <th>2308</th>\n",
       "      <td>47.723614</td>\n",
       "      <td>-157.121833</td>\n",
       "      <td>533.137616</td>\n",
       "      <td>18.054827</td>\n",
       "      <td>-86.138250</td>\n",
       "      <td>47.723614</td>\n",
       "      <td>-157.121833</td>\n",
       "    </tr>\n",
       "    <tr>\n",
       "      <th>2309</th>\n",
       "      <td>156.113434</td>\n",
       "      <td>-131.381523</td>\n",
       "      <td>-146.237282</td>\n",
       "      <td>102.525996</td>\n",
       "      <td>22.711910</td>\n",
       "      <td>156.113434</td>\n",
       "      <td>-131.381523</td>\n",
       "    </tr>\n",
       "    <tr>\n",
       "      <th>2310</th>\n",
       "      <td>27.240939</td>\n",
       "      <td>69.530762</td>\n",
       "      <td>514.169013</td>\n",
       "      <td>-121.941626</td>\n",
       "      <td>177.250781</td>\n",
       "      <td>27.240939</td>\n",
       "      <td>69.530762</td>\n",
       "    </tr>\n",
       "    <tr>\n",
       "      <th>2311</th>\n",
       "      <td>233.921883</td>\n",
       "      <td>-51.688213</td>\n",
       "      <td>-205.139734</td>\n",
       "      <td>195.516638</td>\n",
       "      <td>-106.937380</td>\n",
       "      <td>233.921883</td>\n",
       "      <td>-51.688213</td>\n",
       "    </tr>\n",
       "    <tr>\n",
       "      <th>2312</th>\n",
       "      <td>42.344893</td>\n",
       "      <td>0.622405</td>\n",
       "      <td>-321.946292</td>\n",
       "      <td>-181.264697</td>\n",
       "      <td>46.152563</td>\n",
       "      <td>42.344893</td>\n",
       "      <td>0.622405</td>\n",
       "    </tr>\n",
       "  </tbody>\n",
       "</table>\n",
       "<p>2313 rows × 7 columns</p>\n",
       "</div>"
      ],
      "text/plain": [
       "            AccX        AccY       GyroZ    DiffAccX    DiffAccY        VelX  \\\n",
       "0      -3.509345    9.776257   74.896498   -0.018756    0.003491   -3.509345   \n",
       "1    -157.992905  -99.985349  102.351035 -146.171580  -96.829548 -157.992905   \n",
       "2     -60.046498   -2.635757   63.415515   92.645759   85.886499  -60.046498   \n",
       "3      66.701299  -13.388488   36.460154  119.893994   -9.482701   66.701299   \n",
       "4       6.163664   88.619412   36.460154  -57.291816   89.996116    6.163664   \n",
       "...          ...         ...         ...         ...         ...         ...   \n",
       "2308   47.723614 -157.121833  533.137616   18.054827  -86.138250   47.723614   \n",
       "2309  156.113434 -131.381523 -146.237282  102.525996   22.711910  156.113434   \n",
       "2310   27.240939   69.530762  514.169013 -121.941626  177.250781   27.240939   \n",
       "2311  233.921883  -51.688213 -205.139734  195.516638 -106.937380  233.921883   \n",
       "2312   42.344893    0.622405 -321.946292 -181.264697   46.152563   42.344893   \n",
       "\n",
       "            VelY  \n",
       "0       9.776257  \n",
       "1     -99.985349  \n",
       "2      -2.635757  \n",
       "3     -13.388488  \n",
       "4      88.619412  \n",
       "...          ...  \n",
       "2308 -157.121833  \n",
       "2309 -131.381523  \n",
       "2310   69.530762  \n",
       "2311  -51.688213  \n",
       "2312    0.622405  \n",
       "\n",
       "[2313 rows x 7 columns]"
      ]
     },
     "execution_count": 151,
     "metadata": {},
     "output_type": "execute_result"
    }
   ],
   "source": [
    "X_train = (X_train - X_train.mean()) / X_train.std() * 100\n",
    "X_test = (X_test - X_test.mean()) / X_test.std() * 100\n",
    "\n",
    "X_train"
   ]
  },
  {
   "cell_type": "markdown",
   "metadata": {},
   "source": [
    "## Train model"
   ]
  },
  {
   "cell_type": "code",
   "execution_count": 152,
   "metadata": {},
   "outputs": [],
   "source": [
    "from sklearn.ensemble import RandomForestClassifier\n",
    "from sklearn.model_selection import GridSearchCV, RandomizedSearchCV\n",
    "from sklearn.metrics import confusion_matrix, ConfusionMatrixDisplay"
   ]
  },
  {
   "cell_type": "code",
   "execution_count": 153,
   "metadata": {},
   "outputs": [
    {
     "data": {
      "text/html": [
       "<style>#sk-container-id-8 {color: black;background-color: white;}#sk-container-id-8 pre{padding: 0;}#sk-container-id-8 div.sk-toggleable {background-color: white;}#sk-container-id-8 label.sk-toggleable__label {cursor: pointer;display: block;width: 100%;margin-bottom: 0;padding: 0.3em;box-sizing: border-box;text-align: center;}#sk-container-id-8 label.sk-toggleable__label-arrow:before {content: \"▸\";float: left;margin-right: 0.25em;color: #696969;}#sk-container-id-8 label.sk-toggleable__label-arrow:hover:before {color: black;}#sk-container-id-8 div.sk-estimator:hover label.sk-toggleable__label-arrow:before {color: black;}#sk-container-id-8 div.sk-toggleable__content {max-height: 0;max-width: 0;overflow: hidden;text-align: left;background-color: #f0f8ff;}#sk-container-id-8 div.sk-toggleable__content pre {margin: 0.2em;color: black;border-radius: 0.25em;background-color: #f0f8ff;}#sk-container-id-8 input.sk-toggleable__control:checked~div.sk-toggleable__content {max-height: 200px;max-width: 100%;overflow: auto;}#sk-container-id-8 input.sk-toggleable__control:checked~label.sk-toggleable__label-arrow:before {content: \"▾\";}#sk-container-id-8 div.sk-estimator input.sk-toggleable__control:checked~label.sk-toggleable__label {background-color: #d4ebff;}#sk-container-id-8 div.sk-label input.sk-toggleable__control:checked~label.sk-toggleable__label {background-color: #d4ebff;}#sk-container-id-8 input.sk-hidden--visually {border: 0;clip: rect(1px 1px 1px 1px);clip: rect(1px, 1px, 1px, 1px);height: 1px;margin: -1px;overflow: hidden;padding: 0;position: absolute;width: 1px;}#sk-container-id-8 div.sk-estimator {font-family: monospace;background-color: #f0f8ff;border: 1px dotted black;border-radius: 0.25em;box-sizing: border-box;margin-bottom: 0.5em;}#sk-container-id-8 div.sk-estimator:hover {background-color: #d4ebff;}#sk-container-id-8 div.sk-parallel-item::after {content: \"\";width: 100%;border-bottom: 1px solid gray;flex-grow: 1;}#sk-container-id-8 div.sk-label:hover label.sk-toggleable__label {background-color: #d4ebff;}#sk-container-id-8 div.sk-serial::before {content: \"\";position: absolute;border-left: 1px solid gray;box-sizing: border-box;top: 0;bottom: 0;left: 50%;z-index: 0;}#sk-container-id-8 div.sk-serial {display: flex;flex-direction: column;align-items: center;background-color: white;padding-right: 0.2em;padding-left: 0.2em;position: relative;}#sk-container-id-8 div.sk-item {position: relative;z-index: 1;}#sk-container-id-8 div.sk-parallel {display: flex;align-items: stretch;justify-content: center;background-color: white;position: relative;}#sk-container-id-8 div.sk-item::before, #sk-container-id-8 div.sk-parallel-item::before {content: \"\";position: absolute;border-left: 1px solid gray;box-sizing: border-box;top: 0;bottom: 0;left: 50%;z-index: -1;}#sk-container-id-8 div.sk-parallel-item {display: flex;flex-direction: column;z-index: 1;position: relative;background-color: white;}#sk-container-id-8 div.sk-parallel-item:first-child::after {align-self: flex-end;width: 50%;}#sk-container-id-8 div.sk-parallel-item:last-child::after {align-self: flex-start;width: 50%;}#sk-container-id-8 div.sk-parallel-item:only-child::after {width: 0;}#sk-container-id-8 div.sk-dashed-wrapped {border: 1px dashed gray;margin: 0 0.4em 0.5em 0.4em;box-sizing: border-box;padding-bottom: 0.4em;background-color: white;}#sk-container-id-8 div.sk-label label {font-family: monospace;font-weight: bold;display: inline-block;line-height: 1.2em;}#sk-container-id-8 div.sk-label-container {text-align: center;}#sk-container-id-8 div.sk-container {/* jupyter's `normalize.less` sets `[hidden] { display: none; }` but bootstrap.min.css set `[hidden] { display: none !important; }` so we also need the `!important` here to be able to override the default hidden behavior on the sphinx rendered scikit-learn.org. See: https://github.com/scikit-learn/scikit-learn/issues/21755 */display: inline-block !important;position: relative;}#sk-container-id-8 div.sk-text-repr-fallback {display: none;}</style><div id=\"sk-container-id-8\" class=\"sk-top-container\"><div class=\"sk-text-repr-fallback\"><pre>RandomForestClassifier(criterion=&#x27;entropy&#x27;, max_depth=15, n_estimators=30,\n",
       "                       random_state=5)</pre><b>In a Jupyter environment, please rerun this cell to show the HTML representation or trust the notebook. <br />On GitHub, the HTML representation is unable to render, please try loading this page with nbviewer.org.</b></div><div class=\"sk-container\" hidden><div class=\"sk-item\"><div class=\"sk-estimator sk-toggleable\"><input class=\"sk-toggleable__control sk-hidden--visually\" id=\"sk-estimator-id-16\" type=\"checkbox\" checked><label for=\"sk-estimator-id-16\" class=\"sk-toggleable__label sk-toggleable__label-arrow\">RandomForestClassifier</label><div class=\"sk-toggleable__content\"><pre>RandomForestClassifier(criterion=&#x27;entropy&#x27;, max_depth=15, n_estimators=30,\n",
       "                       random_state=5)</pre></div></div></div></div></div>"
      ],
      "text/plain": [
       "RandomForestClassifier(criterion='entropy', max_depth=15, n_estimators=30,\n",
       "                       random_state=5)"
      ]
     },
     "execution_count": 153,
     "metadata": {},
     "output_type": "execute_result"
    }
   ],
   "source": [
    "rfc = RandomForestClassifier(n_estimators=30, max_depth=15, random_state=5, criterion=\"entropy\")\n",
    "rfc.fit(X_train, y_train)"
   ]
  },
  {
   "cell_type": "code",
   "execution_count": 154,
   "metadata": {},
   "outputs": [
    {
     "data": {
      "text/plain": [
       "0.8832684824902723"
      ]
     },
     "execution_count": 154,
     "metadata": {},
     "output_type": "execute_result"
    }
   ],
   "source": [
    "rfc.score(X_train, y_train)"
   ]
  },
  {
   "cell_type": "code",
   "execution_count": 155,
   "metadata": {},
   "outputs": [
    {
     "data": {
      "text/plain": [
       "0.6112644947542794"
      ]
     },
     "execution_count": 155,
     "metadata": {},
     "output_type": "execute_result"
    }
   ],
   "source": [
    "rfc.score(X_test, y_test)"
   ]
  },
  {
   "cell_type": "code",
   "execution_count": 156,
   "metadata": {},
   "outputs": [],
   "source": [
    "classes=['NORMAL', 'AGGRESSIVE']"
   ]
  },
  {
   "cell_type": "code",
   "execution_count": 157,
   "metadata": {},
   "outputs": [
    {
     "data": {
      "image/png": "[encoded data removed]",
      "text/plain": [
       "<Figure size 432x288 with 2 Axes>"
      ]
     },
     "metadata": {
      "needs_background": "light"
     },
     "output_type": "display_data"
    }
   ],
   "source": [
    "y_pred = rfc.predict(X_test)\n",
    "\n",
    "CM = confusion_matrix(y_test, y_pred)\n",
    "ConfusionMatrixDisplay(confusion_matrix=CM, display_labels=classes).plot()\n",
    "plt.title('Normal vs Aggressive CM')\n",
    "plt.show()\n"
   ]
  },
  {
   "cell_type": "code",
   "execution_count": 158,
   "metadata": {},
   "outputs": [
    {
     "data": {
      "image/png": "[encoded data removed]",
      "text/plain": [
       "<Figure size 432x288 with 2 Axes>"
      ]
     },
     "metadata": {
      "needs_background": "light"
     },
     "output_type": "display_data"
    }
   ],
   "source": [
    "CM_norm = confusion_matrix(y_test, y_pred, normalize=\"true\")\n",
    "\n",
    "ConfusionMatrixDisplay(confusion_matrix=CM_norm, display_labels=classes).plot()\n",
    "plt.title('Normal vs Aggressive CM_norm')\n",
    "plt.show()"
   ]
  },
  {
   "cell_type": "code",
   "execution_count": 159,
   "metadata": {},
   "outputs": [
    {
     "data": {
      "text/plain": [
       "0.6112644947542794"
      ]
     },
     "execution_count": 159,
     "metadata": {},
     "output_type": "execute_result"
    }
   ],
   "source": [
    "rfc.score(X_test, y_test)"
   ]
  },
  {
   "cell_type": "code",
   "execution_count": 160,
   "metadata": {},
   "outputs": [],
   "source": [
    "rfc_imp = pd.DataFrame(rfc.feature_importances_, columns=['importance'])"
   ]
  },
  {
   "cell_type": "code",
   "execution_count": 161,
   "metadata": {},
   "outputs": [
    {
     "data": {
      "text/html": [
       "<div>\n",
       "<style scoped>\n",
       "    .dataframe tbody tr th:only-of-type {\n",
       "        vertical-align: middle;\n",
       "    }\n",
       "\n",
       "    .dataframe tbody tr th {\n",
       "        vertical-align: top;\n",
       "    }\n",
       "\n",
       "    .dataframe thead th {\n",
       "        text-align: right;\n",
       "    }\n",
       "</style>\n",
       "<table border=\"1\" class=\"dataframe\">\n",
       "  <thead>\n",
       "    <tr style=\"text-align: right;\">\n",
       "      <th></th>\n",
       "      <th>importance</th>\n",
       "    </tr>\n",
       "  </thead>\n",
       "  <tbody>\n",
       "    <tr>\n",
       "      <th>AccX</th>\n",
       "      <td>14.332129</td>\n",
       "    </tr>\n",
       "    <tr>\n",
       "      <th>AccY</th>\n",
       "      <td>13.421542</td>\n",
       "    </tr>\n",
       "    <tr>\n",
       "      <th>GyroZ</th>\n",
       "      <td>13.370358</td>\n",
       "    </tr>\n",
       "    <tr>\n",
       "      <th>DiffAccX</th>\n",
       "      <td>13.929883</td>\n",
       "    </tr>\n",
       "    <tr>\n",
       "      <th>DiffAccY</th>\n",
       "      <td>15.421162</td>\n",
       "    </tr>\n",
       "    <tr>\n",
       "      <th>VelX</th>\n",
       "      <td>14.128181</td>\n",
       "    </tr>\n",
       "    <tr>\n",
       "      <th>VelY</th>\n",
       "      <td>15.396745</td>\n",
       "    </tr>\n",
       "  </tbody>\n",
       "</table>\n",
       "</div>"
      ],
      "text/plain": [
       "          importance\n",
       "AccX       14.332129\n",
       "AccY       13.421542\n",
       "GyroZ      13.370358\n",
       "DiffAccX   13.929883\n",
       "DiffAccY   15.421162\n",
       "VelX       14.128181\n",
       "VelY       15.396745"
      ]
     },
     "execution_count": 161,
     "metadata": {},
     "output_type": "execute_result"
    }
   ],
   "source": [
    "rfc_imp['importance'] = rfc_imp['importance'] * 100\n",
    "rfc_imp = rfc_imp.set_index(X_train.columns)\n",
    "rfc_imp\n"
   ]
  },
  {
   "cell_type": "code",
   "execution_count": 162,
   "metadata": {},
   "outputs": [
    {
     "data": {
      "text/html": [
       "<div>\n",
       "<style scoped>\n",
       "    .dataframe tbody tr th:only-of-type {\n",
       "        vertical-align: middle;\n",
       "    }\n",
       "\n",
       "    .dataframe tbody tr th {\n",
       "        vertical-align: top;\n",
       "    }\n",
       "\n",
       "    .dataframe thead th {\n",
       "        text-align: right;\n",
       "    }\n",
       "</style>\n",
       "<table border=\"1\" class=\"dataframe\">\n",
       "  <thead>\n",
       "    <tr style=\"text-align: right;\">\n",
       "      <th></th>\n",
       "      <th>importance</th>\n",
       "    </tr>\n",
       "  </thead>\n",
       "  <tbody>\n",
       "    <tr>\n",
       "      <th>DiffAccY</th>\n",
       "      <td>15.421162</td>\n",
       "    </tr>\n",
       "    <tr>\n",
       "      <th>VelY</th>\n",
       "      <td>15.396745</td>\n",
       "    </tr>\n",
       "    <tr>\n",
       "      <th>AccX</th>\n",
       "      <td>14.332129</td>\n",
       "    </tr>\n",
       "    <tr>\n",
       "      <th>VelX</th>\n",
       "      <td>14.128181</td>\n",
       "    </tr>\n",
       "    <tr>\n",
       "      <th>DiffAccX</th>\n",
       "      <td>13.929883</td>\n",
       "    </tr>\n",
       "    <tr>\n",
       "      <th>AccY</th>\n",
       "      <td>13.421542</td>\n",
       "    </tr>\n",
       "    <tr>\n",
       "      <th>GyroZ</th>\n",
       "      <td>13.370358</td>\n",
       "    </tr>\n",
       "  </tbody>\n",
       "</table>\n",
       "</div>"
      ],
      "text/plain": [
       "          importance\n",
       "DiffAccY   15.421162\n",
       "VelY       15.396745\n",
       "AccX       14.332129\n",
       "VelX       14.128181\n",
       "DiffAccX   13.929883\n",
       "AccY       13.421542\n",
       "GyroZ      13.370358"
      ]
     },
     "execution_count": 162,
     "metadata": {},
     "output_type": "execute_result"
    }
   ],
   "source": [
    "rfc_imp.sort_values(by='importance', ascending=False)"
   ]
  },
  {
   "cell_type": "markdown",
   "metadata": {},
   "source": [
    "### Train model with RandomSearchCV"
   ]
  },
  {
   "cell_type": "code",
   "execution_count": 163,
   "metadata": {},
   "outputs": [],
   "source": [
    "n_estimators = np.arange(2, 200, 2)\n",
    "\n",
    "max_features = ['sqrt', None]\n",
    "\n",
    "max_depth = [int(x) for x in np.linspace(5, 20, num = 20)]\n",
    "max_depth.append(None)\n",
    "\n",
    "min_samples_split = np.arange(2, 10)\n",
    "\n",
    "min_samples_leaf = np.arange(1, 4)\n",
    "\n",
    "bootstrap = [True, False]\n",
    "random_grid = {'n_estimators': n_estimators,\n",
    "               'max_features': max_features,\n",
    "               'max_depth': max_depth,\n",
    "               'min_samples_split': min_samples_split,\n",
    "               'min_samples_leaf': min_samples_leaf,\n",
    "               'bootstrap': bootstrap}"
   ]
  },
  {
   "cell_type": "code",
   "execution_count": 164,
   "metadata": {},
   "outputs": [
    {
     "name": "stdout",
     "output_type": "stream",
     "text": [
      "Fitting 5 folds for each of 100 candidates, totalling 500 fits\n"
     ]
    },
    {
     "data": {
      "text/html": [
       "<style>#sk-container-id-9 {color: black;background-color: white;}#sk-container-id-9 pre{padding: 0;}#sk-container-id-9 div.sk-toggleable {background-color: white;}#sk-container-id-9 label.sk-toggleable__label {cursor: pointer;display: block;width: 100%;margin-bottom: 0;padding: 0.3em;box-sizing: border-box;text-align: center;}#sk-container-id-9 label.sk-toggleable__label-arrow:before {content: \"▸\";float: left;margin-right: 0.25em;color: #696969;}#sk-container-id-9 label.sk-toggleable__label-arrow:hover:before {color: black;}#sk-container-id-9 div.sk-estimator:hover label.sk-toggleable__label-arrow:before {color: black;}#sk-container-id-9 div.sk-toggleable__content {max-height: 0;max-width: 0;overflow: hidden;text-align: left;background-color: #f0f8ff;}#sk-container-id-9 div.sk-toggleable__content pre {margin: 0.2em;color: black;border-radius: 0.25em;background-color: #f0f8ff;}#sk-container-id-9 input.sk-toggleable__control:checked~div.sk-toggleable__content {max-height: 200px;max-width: 100%;overflow: auto;}#sk-container-id-9 input.sk-toggleable__control:checked~label.sk-toggleable__label-arrow:before {content: \"▾\";}#sk-container-id-9 div.sk-estimator input.sk-toggleable__control:checked~label.sk-toggleable__label {background-color: #d4ebff;}#sk-container-id-9 div.sk-label input.sk-toggleable__control:checked~label.sk-toggleable__label {background-color: #d4ebff;}#sk-container-id-9 input.sk-hidden--visually {border: 0;clip: rect(1px 1px 1px 1px);clip: rect(1px, 1px, 1px, 1px);height: 1px;margin: -1px;overflow: hidden;padding: 0;position: absolute;width: 1px;}#sk-container-id-9 div.sk-estimator {font-family: monospace;background-color: #f0f8ff;border: 1px dotted black;border-radius: 0.25em;box-sizing: border-box;margin-bottom: 0.5em;}#sk-container-id-9 div.sk-estimator:hover {background-color: #d4ebff;}#sk-container-id-9 div.sk-parallel-item::after {content: \"\";width: 100%;border-bottom: 1px solid gray;flex-grow: 1;}#sk-container-id-9 div.sk-label:hover label.sk-toggleable__label {background-color: #d4ebff;}#sk-container-id-9 div.sk-serial::before {content: \"\";position: absolute;border-left: 1px solid gray;box-sizing: border-box;top: 0;bottom: 0;left: 50%;z-index: 0;}#sk-container-id-9 div.sk-serial {display: flex;flex-direction: column;align-items: center;background-color: white;padding-right: 0.2em;padding-left: 0.2em;position: relative;}#sk-container-id-9 div.sk-item {position: relative;z-index: 1;}#sk-container-id-9 div.sk-parallel {display: flex;align-items: stretch;justify-content: center;background-color: white;position: relative;}#sk-container-id-9 div.sk-item::before, #sk-container-id-9 div.sk-parallel-item::before {content: \"\";position: absolute;border-left: 1px solid gray;box-sizing: border-box;top: 0;bottom: 0;left: 50%;z-index: -1;}#sk-container-id-9 div.sk-parallel-item {display: flex;flex-direction: column;z-index: 1;position: relative;background-color: white;}#sk-container-id-9 div.sk-parallel-item:first-child::after {align-self: flex-end;width: 50%;}#sk-container-id-9 div.sk-parallel-item:last-child::after {align-self: flex-start;width: 50%;}#sk-container-id-9 div.sk-parallel-item:only-child::after {width: 0;}#sk-container-id-9 div.sk-dashed-wrapped {border: 1px dashed gray;margin: 0 0.4em 0.5em 0.4em;box-sizing: border-box;padding-bottom: 0.4em;background-color: white;}#sk-container-id-9 div.sk-label label {font-family: monospace;font-weight: bold;display: inline-block;line-height: 1.2em;}#sk-container-id-9 div.sk-label-container {text-align: center;}#sk-container-id-9 div.sk-container {/* jupyter's `normalize.less` sets `[hidden] { display: none; }` but bootstrap.min.css set `[hidden] { display: none !important; }` so we also need the `!important` here to be able to override the default hidden behavior on the sphinx rendered scikit-learn.org. See: https://github.com/scikit-learn/scikit-learn/issues/21755 */display: inline-block !important;position: relative;}#sk-container-id-9 div.sk-text-repr-fallback {display: none;}</style><div id=\"sk-container-id-9\" class=\"sk-top-container\"><div class=\"sk-text-repr-fallback\"><pre>RandomizedSearchCV(cv=5,\n",
       "                   estimator=RandomForestClassifier(class_weight={1: 1, 2: 1},\n",
       "                                                    criterion=&#x27;entropy&#x27;,\n",
       "                                                    min_impurity_decrease=0,\n",
       "                                                    random_state=0),\n",
       "                   n_iter=100, n_jobs=10,\n",
       "                   param_distributions={&#x27;bootstrap&#x27;: [True, False],\n",
       "                                        &#x27;max_depth&#x27;: [5, 5, 6, 7, 8, 8, 9, 10,\n",
       "                                                      11, 12, 12, 13, 14, 15,\n",
       "                                                      16, 16, 17, 18, 19, 20,\n",
       "                                                      None],\n",
       "                                        &#x27;max_features&#x27;: [&#x27;sqrt&#x27;, None],\n",
       "                                        &#x27;min_samples_leaf&#x27;: array([1, 2, 3]),\n",
       "                                        &#x27;min_sam...\n",
       "                                        &#x27;n_estimators&#x27;: array([  2,   4,   6,   8,  10,  12,  14,  16,  18,  20,  22,  24,  26,\n",
       "        28,  30,  32,  34,  36,  38,  40,  42,  44,  46,  48,  50,  52,\n",
       "        54,  56,  58,  60,  62,  64,  66,  68,  70,  72,  74,  76,  78,\n",
       "        80,  82,  84,  86,  88,  90,  92,  94,  96,  98, 100, 102, 104,\n",
       "       106, 108, 110, 112, 114, 116, 118, 120, 122, 124, 126, 128, 130,\n",
       "       132, 134, 136, 138, 140, 142, 144, 146, 148, 150, 152, 154, 156,\n",
       "       158, 160, 162, 164, 166, 168, 170, 172, 174, 176, 178, 180, 182,\n",
       "       184, 186, 188, 190, 192, 194, 196, 198])},\n",
       "                   random_state=0, verbose=10)</pre><b>In a Jupyter environment, please rerun this cell to show the HTML representation or trust the notebook. <br />On GitHub, the HTML representation is unable to render, please try loading this page with nbviewer.org.</b></div><div class=\"sk-container\" hidden><div class=\"sk-item sk-dashed-wrapped\"><div class=\"sk-label-container\"><div class=\"sk-label sk-toggleable\"><input class=\"sk-toggleable__control sk-hidden--visually\" id=\"sk-estimator-id-17\" type=\"checkbox\" ><label for=\"sk-estimator-id-17\" class=\"sk-toggleable__label sk-toggleable__label-arrow\">RandomizedSearchCV</label><div class=\"sk-toggleable__content\"><pre>RandomizedSearchCV(cv=5,\n",
       "                   estimator=RandomForestClassifier(class_weight={1: 1, 2: 1},\n",
       "                                                    criterion=&#x27;entropy&#x27;,\n",
       "                                                    min_impurity_decrease=0,\n",
       "                                                    random_state=0),\n",
       "                   n_iter=100, n_jobs=10,\n",
       "                   param_distributions={&#x27;bootstrap&#x27;: [True, False],\n",
       "                                        &#x27;max_depth&#x27;: [5, 5, 6, 7, 8, 8, 9, 10,\n",
       "                                                      11, 12, 12, 13, 14, 15,\n",
       "                                                      16, 16, 17, 18, 19, 20,\n",
       "                                                      None],\n",
       "                                        &#x27;max_features&#x27;: [&#x27;sqrt&#x27;, None],\n",
       "                                        &#x27;min_samples_leaf&#x27;: array([1, 2, 3]),\n",
       "                                        &#x27;min_sam...\n",
       "                                        &#x27;n_estimators&#x27;: array([  2,   4,   6,   8,  10,  12,  14,  16,  18,  20,  22,  24,  26,\n",
       "        28,  30,  32,  34,  36,  38,  40,  42,  44,  46,  48,  50,  52,\n",
       "        54,  56,  58,  60,  62,  64,  66,  68,  70,  72,  74,  76,  78,\n",
       "        80,  82,  84,  86,  88,  90,  92,  94,  96,  98, 100, 102, 104,\n",
       "       106, 108, 110, 112, 114, 116, 118, 120, 122, 124, 126, 128, 130,\n",
       "       132, 134, 136, 138, 140, 142, 144, 146, 148, 150, 152, 154, 156,\n",
       "       158, 160, 162, 164, 166, 168, 170, 172, 174, 176, 178, 180, 182,\n",
       "       184, 186, 188, 190, 192, 194, 196, 198])},\n",
       "                   random_state=0, verbose=10)</pre></div></div></div><div class=\"sk-parallel\"><div class=\"sk-parallel-item\"><div class=\"sk-item\"><div class=\"sk-label-container\"><div class=\"sk-label sk-toggleable\"><input class=\"sk-toggleable__control sk-hidden--visually\" id=\"sk-estimator-id-18\" type=\"checkbox\" ><label for=\"sk-estimator-id-18\" class=\"sk-toggleable__label sk-toggleable__label-arrow\">estimator: RandomForestClassifier</label><div class=\"sk-toggleable__content\"><pre>RandomForestClassifier(class_weight={1: 1, 2: 1}, criterion=&#x27;entropy&#x27;,\n",
       "                       min_impurity_decrease=0, random_state=0)</pre></div></div></div><div class=\"sk-serial\"><div class=\"sk-item\"><div class=\"sk-estimator sk-toggleable\"><input class=\"sk-toggleable__control sk-hidden--visually\" id=\"sk-estimator-id-19\" type=\"checkbox\" ><label for=\"sk-estimator-id-19\" class=\"sk-toggleable__label sk-toggleable__label-arrow\">RandomForestClassifier</label><div class=\"sk-toggleable__content\"><pre>RandomForestClassifier(class_weight={1: 1, 2: 1}, criterion=&#x27;entropy&#x27;,\n",
       "                       min_impurity_decrease=0, random_state=0)</pre></div></div></div></div></div></div></div></div></div></div>"
      ],
      "text/plain": [
       "RandomizedSearchCV(cv=5,\n",
       "                   estimator=RandomForestClassifier(class_weight={1: 1, 2: 1},\n",
       "                                                    criterion='entropy',\n",
       "                                                    min_impurity_decrease=0,\n",
       "                                                    random_state=0),\n",
       "                   n_iter=100, n_jobs=10,\n",
       "                   param_distributions={'bootstrap': [True, False],\n",
       "                                        'max_depth': [5, 5, 6, 7, 8, 8, 9, 10,\n",
       "                                                      11, 12, 12, 13, 14, 15,\n",
       "                                                      16, 16, 17, 18, 19, 20,\n",
       "                                                      None],\n",
       "                                        'max_features': ['sqrt', None],\n",
       "                                        'min_samples_leaf': array([1, 2, 3]),\n",
       "                                        'min_sam...\n",
       "                                        'n_estimators': array([  2,   4,   6,   8,  10,  12,  14,  16,  18,  20,  22,  24,  26,\n",
       "        28,  30,  32,  34,  36,  38,  40,  42,  44,  46,  48,  50,  52,\n",
       "        54,  56,  58,  60,  62,  64,  66,  68,  70,  72,  74,  76,  78,\n",
       "        80,  82,  84,  86,  88,  90,  92,  94,  96,  98, 100, 102, 104,\n",
       "       106, 108, 110, 112, 114, 116, 118, 120, 122, 124, 126, 128, 130,\n",
       "       132, 134, 136, 138, 140, 142, 144, 146, 148, 150, 152, 154, 156,\n",
       "       158, 160, 162, 164, 166, 168, 170, 172, 174, 176, 178, 180, 182,\n",
       "       184, 186, 188, 190, 192, 194, 196, 198])},\n",
       "                   random_state=0, verbose=10)"
      ]
     },
     "execution_count": 164,
     "metadata": {},
     "output_type": "execute_result"
    }
   ],
   "source": [
    "weights = {1:1, 2:1}\n",
    "random_forest = RandomForestClassifier(random_state=0, criterion=\"entropy\", min_impurity_decrease=0, class_weight=weights)\n",
    "\n",
    "param_grid = {'n_estimators': np.arange(2, 30, 2), 'max_depth': np.arange(3, 30), 'max_leaf_nodes': np.arange(6, 30, 2), 'min_samples_leaf': np.arange(1, 4)}\n",
    "\n",
    "# best_params: test 47.5% {'max_depth': 7, 'n_estimators': 33}\n",
    "\n",
    "# AccY, AccX, GyroZ, GyroX\n",
    "# best params 2 : test 47% {'n_estimators': 96, 'min_samples_split': 3 'min_samples_leaf': 1, 'max_features': 'sqrt', 'max_depth': 5,'bootstrap': False}\n",
    "\n",
    "random_gscv = RandomizedSearchCV(random_forest, random_grid, n_iter=100, cv=5, verbose=10, n_jobs=10, random_state=0)\n",
    "random_gscv.fit(X_train, y_train)"
   ]
  },
  {
   "cell_type": "code",
   "execution_count": 165,
   "metadata": {},
   "outputs": [
    {
     "data": {
      "text/plain": [
       "{'n_estimators': 78,\n",
       " 'min_samples_split': 7,\n",
       " 'min_samples_leaf': 3,\n",
       " 'max_features': 'sqrt',\n",
       " 'max_depth': 11,\n",
       " 'bootstrap': True}"
      ]
     },
     "execution_count": 165,
     "metadata": {},
     "output_type": "execute_result"
    }
   ],
   "source": [
    "random_gscv.best_params_"
   ]
  },
  {
   "cell_type": "code",
   "execution_count": 166,
   "metadata": {},
   "outputs": [
    {
     "data": {
      "text/plain": [
       "0.6242985236505755"
      ]
     },
     "execution_count": 166,
     "metadata": {},
     "output_type": "execute_result"
    }
   ],
   "source": [
    "random_gscv.best_score_"
   ]
  },
  {
   "cell_type": "code",
   "execution_count": 167,
   "metadata": {},
   "outputs": [
    {
     "data": {
      "text/plain": [
       "0.7907479463899697"
      ]
     },
     "execution_count": 167,
     "metadata": {},
     "output_type": "execute_result"
    }
   ],
   "source": [
    "random_gscv.score(X_train, y_train)"
   ]
  },
  {
   "cell_type": "code",
   "execution_count": 168,
   "metadata": {},
   "outputs": [
    {
     "data": {
      "text/plain": [
       "0.6333517393705135"
      ]
     },
     "execution_count": 168,
     "metadata": {},
     "output_type": "execute_result"
    }
   ],
   "source": [
    "random_gscv.score(X_test, y_test)"
   ]
  },
  {
   "cell_type": "code",
   "execution_count": 169,
   "metadata": {},
   "outputs": [],
   "source": [
    "classes = [\"NORMAL\", \"AGGRESIVE\"]"
   ]
  },
  {
   "cell_type": "code",
   "execution_count": 170,
   "metadata": {},
   "outputs": [
    {
     "data": {
      "image/png": "[encoded data removed]",
      "text/plain": [
       "<Figure size 432x288 with 2 Axes>"
      ]
     },
     "metadata": {
      "needs_background": "light"
     },
     "output_type": "display_data"
    }
   ],
   "source": [
    "y_pred = random_gscv.predict(X_test)\n",
    "\n",
    "CM = confusion_matrix(y_test, y_pred)\n",
    "ConfusionMatrixDisplay(confusion_matrix=CM, display_labels=classes).plot()\n",
    "plt.title('Confusion matrix')\n",
    "plt.show()"
   ]
  },
  {
   "cell_type": "code",
   "execution_count": 171,
   "metadata": {},
   "outputs": [
    {
     "data": {
      "image/png": "[encoded data removed]",
      "text/plain": [
       "<Figure size 432x288 with 2 Axes>"
      ]
     },
     "metadata": {
      "needs_background": "light"
     },
     "output_type": "display_data"
    }
   ],
   "source": [
    "CM_norm = confusion_matrix(y_test, y_pred, normalize=\"true\")\n",
    "\n",
    "ConfusionMatrixDisplay(confusion_matrix=CM_norm, display_labels=classes).plot()\n",
    "plt.title('Confusion matrix normalized')\n",
    "plt.show()"
   ]
  },
  {
   "cell_type": "markdown",
   "metadata": {},
   "source": [
    "#### Evaluate improvment"
   ]
  },
  {
   "cell_type": "code",
   "execution_count": 172,
   "metadata": {},
   "outputs": [
    {
     "name": "stdout",
     "output_type": "stream",
     "text": [
      "Model Performance\n",
      "Accuracy = 0.609%.\n",
      "Model Performance\n",
      "Accuracy = 0.633%.\n",
      "Improvement of 3.989%.\n"
     ]
    }
   ],
   "source": [
    "def evaluate(model, test_features, test_labels):\n",
    "    accuracy = model.score(test_features, test_labels)\n",
    "    print('Model Performance')\n",
    "    print('Accuracy = {:0.3f}%.'.format(accuracy))\n",
    "    \n",
    "    return accuracy\n",
    "\n",
    "base_model = RandomForestClassifier(n_estimators = 10, random_state=0, criterion=\"entropy\", min_impurity_decrease=0, class_weight=weights)\n",
    "base_model.fit(X_train, y_train)\n",
    "base_accuracy = evaluate(base_model, X_test, y_test)\n",
    "\n",
    "best_random = random_gscv.best_estimator_\n",
    "random_accuracy = evaluate(best_random, X_test, y_test)\n",
    "\n",
    "print(f'Improvement of {100 * (random_accuracy - base_accuracy) / base_accuracy:.3f}%.')"
   ]
  },
  {
   "cell_type": "markdown",
   "metadata": {},
   "source": [
    "### KNN"
   ]
  },
  {
   "cell_type": "code",
   "execution_count": 173,
   "metadata": {},
   "outputs": [],
   "source": [
    "from sklearn.neighbors import KNeighborsClassifier\n",
    "from sklearn.model_selection import GridSearchCV"
   ]
  },
  {
   "cell_type": "code",
   "execution_count": 174,
   "metadata": {},
   "outputs": [
    {
     "name": "stdout",
     "output_type": "stream",
     "text": [
      "Fitting 5 folds for each of 380 candidates, totalling 1900 fits\n"
     ]
    },
    {
     "data": {
      "text/html": [
       "<style>#sk-container-id-10 {color: black;background-color: white;}#sk-container-id-10 pre{padding: 0;}#sk-container-id-10 div.sk-toggleable {background-color: white;}#sk-container-id-10 label.sk-toggleable__label {cursor: pointer;display: block;width: 100%;margin-bottom: 0;padding: 0.3em;box-sizing: border-box;text-align: center;}#sk-container-id-10 label.sk-toggleable__label-arrow:before {content: \"▸\";float: left;margin-right: 0.25em;color: #696969;}#sk-container-id-10 label.sk-toggleable__label-arrow:hover:before {color: black;}#sk-container-id-10 div.sk-estimator:hover label.sk-toggleable__label-arrow:before {color: black;}#sk-container-id-10 div.sk-toggleable__content {max-height: 0;max-width: 0;overflow: hidden;text-align: left;background-color: #f0f8ff;}#sk-container-id-10 div.sk-toggleable__content pre {margin: 0.2em;color: black;border-radius: 0.25em;background-color: #f0f8ff;}#sk-container-id-10 input.sk-toggleable__control:checked~div.sk-toggleable__content {max-height: 200px;max-width: 100%;overflow: auto;}#sk-container-id-10 input.sk-toggleable__control:checked~label.sk-toggleable__label-arrow:before {content: \"▾\";}#sk-container-id-10 div.sk-estimator input.sk-toggleable__control:checked~label.sk-toggleable__label {background-color: #d4ebff;}#sk-container-id-10 div.sk-label input.sk-toggleable__control:checked~label.sk-toggleable__label {background-color: #d4ebff;}#sk-container-id-10 input.sk-hidden--visually {border: 0;clip: rect(1px 1px 1px 1px);clip: rect(1px, 1px, 1px, 1px);height: 1px;margin: -1px;overflow: hidden;padding: 0;position: absolute;width: 1px;}#sk-container-id-10 div.sk-estimator {font-family: monospace;background-color: #f0f8ff;border: 1px dotted black;border-radius: 0.25em;box-sizing: border-box;margin-bottom: 0.5em;}#sk-container-id-10 div.sk-estimator:hover {background-color: #d4ebff;}#sk-container-id-10 div.sk-parallel-item::after {content: \"\";width: 100%;border-bottom: 1px solid gray;flex-grow: 1;}#sk-container-id-10 div.sk-label:hover label.sk-toggleable__label {background-color: #d4ebff;}#sk-container-id-10 div.sk-serial::before {content: \"\";position: absolute;border-left: 1px solid gray;box-sizing: border-box;top: 0;bottom: 0;left: 50%;z-index: 0;}#sk-container-id-10 div.sk-serial {display: flex;flex-direction: column;align-items: center;background-color: white;padding-right: 0.2em;padding-left: 0.2em;position: relative;}#sk-container-id-10 div.sk-item {position: relative;z-index: 1;}#sk-container-id-10 div.sk-parallel {display: flex;align-items: stretch;justify-content: center;background-color: white;position: relative;}#sk-container-id-10 div.sk-item::before, #sk-container-id-10 div.sk-parallel-item::before {content: \"\";position: absolute;border-left: 1px solid gray;box-sizing: border-box;top: 0;bottom: 0;left: 50%;z-index: -1;}#sk-container-id-10 div.sk-parallel-item {display: flex;flex-direction: column;z-index: 1;position: relative;background-color: white;}#sk-container-id-10 div.sk-parallel-item:first-child::after {align-self: flex-end;width: 50%;}#sk-container-id-10 div.sk-parallel-item:last-child::after {align-self: flex-start;width: 50%;}#sk-container-id-10 div.sk-parallel-item:only-child::after {width: 0;}#sk-container-id-10 div.sk-dashed-wrapped {border: 1px dashed gray;margin: 0 0.4em 0.5em 0.4em;box-sizing: border-box;padding-bottom: 0.4em;background-color: white;}#sk-container-id-10 div.sk-label label {font-family: monospace;font-weight: bold;display: inline-block;line-height: 1.2em;}#sk-container-id-10 div.sk-label-container {text-align: center;}#sk-container-id-10 div.sk-container {/* jupyter's `normalize.less` sets `[hidden] { display: none; }` but bootstrap.min.css set `[hidden] { display: none !important; }` so we also need the `!important` here to be able to override the default hidden behavior on the sphinx rendered scikit-learn.org. See: https://github.com/scikit-learn/scikit-learn/issues/21755 */display: inline-block !important;position: relative;}#sk-container-id-10 div.sk-text-repr-fallback {display: none;}</style><div id=\"sk-container-id-10\" class=\"sk-top-container\"><div class=\"sk-text-repr-fallback\"><pre>GridSearchCV(cv=5, estimator=KNeighborsClassifier(), n_jobs=10,\n",
       "             param_grid={&#x27;leaf_size&#x27;: array([20, 21, 22, 23, 24, 25, 26, 27, 28, 29, 30, 31, 32, 33, 34, 35, 36,\n",
       "       37, 38, 39]),\n",
       "                         &#x27;n_neighbors&#x27;: array([ 1,  2,  3,  4,  5,  6,  7,  8,  9, 10, 11, 12, 13, 14, 15, 16, 17,\n",
       "       18, 19])},\n",
       "             verbose=10)</pre><b>In a Jupyter environment, please rerun this cell to show the HTML representation or trust the notebook. <br />On GitHub, the HTML representation is unable to render, please try loading this page with nbviewer.org.</b></div><div class=\"sk-container\" hidden><div class=\"sk-item sk-dashed-wrapped\"><div class=\"sk-label-container\"><div class=\"sk-label sk-toggleable\"><input class=\"sk-toggleable__control sk-hidden--visually\" id=\"sk-estimator-id-20\" type=\"checkbox\" ><label for=\"sk-estimator-id-20\" class=\"sk-toggleable__label sk-toggleable__label-arrow\">GridSearchCV</label><div class=\"sk-toggleable__content\"><pre>GridSearchCV(cv=5, estimator=KNeighborsClassifier(), n_jobs=10,\n",
       "             param_grid={&#x27;leaf_size&#x27;: array([20, 21, 22, 23, 24, 25, 26, 27, 28, 29, 30, 31, 32, 33, 34, 35, 36,\n",
       "       37, 38, 39]),\n",
       "                         &#x27;n_neighbors&#x27;: array([ 1,  2,  3,  4,  5,  6,  7,  8,  9, 10, 11, 12, 13, 14, 15, 16, 17,\n",
       "       18, 19])},\n",
       "             verbose=10)</pre></div></div></div><div class=\"sk-parallel\"><div class=\"sk-parallel-item\"><div class=\"sk-item\"><div class=\"sk-label-container\"><div class=\"sk-label sk-toggleable\"><input class=\"sk-toggleable__control sk-hidden--visually\" id=\"sk-estimator-id-21\" type=\"checkbox\" ><label for=\"sk-estimator-id-21\" class=\"sk-toggleable__label sk-toggleable__label-arrow\">estimator: KNeighborsClassifier</label><div class=\"sk-toggleable__content\"><pre>KNeighborsClassifier()</pre></div></div></div><div class=\"sk-serial\"><div class=\"sk-item\"><div class=\"sk-estimator sk-toggleable\"><input class=\"sk-toggleable__control sk-hidden--visually\" id=\"sk-estimator-id-22\" type=\"checkbox\" ><label for=\"sk-estimator-id-22\" class=\"sk-toggleable__label sk-toggleable__label-arrow\">KNeighborsClassifier</label><div class=\"sk-toggleable__content\"><pre>KNeighborsClassifier()</pre></div></div></div></div></div></div></div></div></div></div>"
      ],
      "text/plain": [
       "GridSearchCV(cv=5, estimator=KNeighborsClassifier(), n_jobs=10,\n",
       "             param_grid={'leaf_size': array([20, 21, 22, 23, 24, 25, 26, 27, 28, 29, 30, 31, 32, 33, 34, 35, 36,\n",
       "       37, 38, 39]),\n",
       "                         'n_neighbors': array([ 1,  2,  3,  4,  5,  6,  7,  8,  9, 10, 11, 12, 13, 14, 15, 16, 17,\n",
       "       18, 19])},\n",
       "             verbose=10)"
      ]
     },
     "execution_count": 174,
     "metadata": {},
     "output_type": "execute_result"
    }
   ],
   "source": [
    "Kneigh = KNeighborsClassifier(weights=\"uniform\")\n",
    "\n",
    "param_grid = {'n_neighbors': np.arange(1, 20), 'leaf_size': np.arange(20, 40)}\n",
    "\n",
    "knn_gscv = GridSearchCV(Kneigh, param_grid, cv=5, verbose=10, n_jobs=10)\n",
    "knn_gscv.fit(X_train, y_train)"
   ]
  },
  {
   "cell_type": "code",
   "execution_count": 175,
   "metadata": {},
   "outputs": [
    {
     "data": {
      "text/plain": [
       "{'leaf_size': 20, 'n_neighbors': 18}"
      ]
     },
     "execution_count": 175,
     "metadata": {},
     "output_type": "execute_result"
    }
   ],
   "source": [
    "best_params = knn_gscv.best_params_\n",
    "best_params"
   ]
  },
  {
   "cell_type": "code",
   "execution_count": 176,
   "metadata": {},
   "outputs": [
    {
     "data": {
      "text/plain": [
       "0.5992295681280563"
      ]
     },
     "execution_count": 176,
     "metadata": {},
     "output_type": "execute_result"
    }
   ],
   "source": [
    "knn_gscv.best_score_"
   ]
  },
  {
   "cell_type": "code",
   "execution_count": 177,
   "metadata": {},
   "outputs": [
    {
     "data": {
      "text/plain": [
       "0.6519671422395158"
      ]
     },
     "execution_count": 177,
     "metadata": {},
     "output_type": "execute_result"
    }
   ],
   "source": [
    "knn_gscv.score(X_train, y_train)"
   ]
  },
  {
   "cell_type": "code",
   "execution_count": 178,
   "metadata": {},
   "outputs": [
    {
     "data": {
      "text/plain": [
       "0.6245168415240199"
      ]
     },
     "execution_count": 178,
     "metadata": {},
     "output_type": "execute_result"
    }
   ],
   "source": [
    "knn_gscv.score(X_test, y_test)"
   ]
  },
  {
   "cell_type": "code",
   "execution_count": 179,
   "metadata": {},
   "outputs": [
    {
     "data": {
      "image/png": "[encoded data removed]",
      "text/plain": [
       "<Figure size 432x288 with 2 Axes>"
      ]
     },
     "metadata": {
      "needs_background": "light"
     },
     "output_type": "display_data"
    }
   ],
   "source": [
    "y_pred = knn_gscv.predict(X_test)\n",
    "\n",
    "CM = confusion_matrix(y_test, y_pred)\n",
    "ConfusionMatrixDisplay(confusion_matrix=CM, display_labels=classes).plot()\n",
    "plt.title('Confusion matrix')\n",
    "plt.show()"
   ]
  },
  {
   "cell_type": "code",
   "execution_count": 180,
   "metadata": {},
   "outputs": [
    {
     "data": {
      "image/png": "[encoded data removed]",
      "text/plain": [
       "<Figure size 432x288 with 2 Axes>"
      ]
     },
     "metadata": {
      "needs_background": "light"
     },
     "output_type": "display_data"
    }
   ],
   "source": [
    "ConfusionMatrixDisplay(confusion_matrix=CM_norm, display_labels=classes).plot()\n",
    "plt.title('Confusion matrix normalized')\n",
    "plt.show()"
   ]
  },
  {
   "cell_type": "code",
   "execution_count": 181,
   "metadata": {},
   "outputs": [
    {
     "data": {
      "text/html": [
       "<style>#sk-container-id-11 {color: black;background-color: white;}#sk-container-id-11 pre{padding: 0;}#sk-container-id-11 div.sk-toggleable {background-color: white;}#sk-container-id-11 label.sk-toggleable__label {cursor: pointer;display: block;width: 100%;margin-bottom: 0;padding: 0.3em;box-sizing: border-box;text-align: center;}#sk-container-id-11 label.sk-toggleable__label-arrow:before {content: \"▸\";float: left;margin-right: 0.25em;color: #696969;}#sk-container-id-11 label.sk-toggleable__label-arrow:hover:before {color: black;}#sk-container-id-11 div.sk-estimator:hover label.sk-toggleable__label-arrow:before {color: black;}#sk-container-id-11 div.sk-toggleable__content {max-height: 0;max-width: 0;overflow: hidden;text-align: left;background-color: #f0f8ff;}#sk-container-id-11 div.sk-toggleable__content pre {margin: 0.2em;color: black;border-radius: 0.25em;background-color: #f0f8ff;}#sk-container-id-11 input.sk-toggleable__control:checked~div.sk-toggleable__content {max-height: 200px;max-width: 100%;overflow: auto;}#sk-container-id-11 input.sk-toggleable__control:checked~label.sk-toggleable__label-arrow:before {content: \"▾\";}#sk-container-id-11 div.sk-estimator input.sk-toggleable__control:checked~label.sk-toggleable__label {background-color: #d4ebff;}#sk-container-id-11 div.sk-label input.sk-toggleable__control:checked~label.sk-toggleable__label {background-color: #d4ebff;}#sk-container-id-11 input.sk-hidden--visually {border: 0;clip: rect(1px 1px 1px 1px);clip: rect(1px, 1px, 1px, 1px);height: 1px;margin: -1px;overflow: hidden;padding: 0;position: absolute;width: 1px;}#sk-container-id-11 div.sk-estimator {font-family: monospace;background-color: #f0f8ff;border: 1px dotted black;border-radius: 0.25em;box-sizing: border-box;margin-bottom: 0.5em;}#sk-container-id-11 div.sk-estimator:hover {background-color: #d4ebff;}#sk-container-id-11 div.sk-parallel-item::after {content: \"\";width: 100%;border-bottom: 1px solid gray;flex-grow: 1;}#sk-container-id-11 div.sk-label:hover label.sk-toggleable__label {background-color: #d4ebff;}#sk-container-id-11 div.sk-serial::before {content: \"\";position: absolute;border-left: 1px solid gray;box-sizing: border-box;top: 0;bottom: 0;left: 50%;z-index: 0;}#sk-container-id-11 div.sk-serial {display: flex;flex-direction: column;align-items: center;background-color: white;padding-right: 0.2em;padding-left: 0.2em;position: relative;}#sk-container-id-11 div.sk-item {position: relative;z-index: 1;}#sk-container-id-11 div.sk-parallel {display: flex;align-items: stretch;justify-content: center;background-color: white;position: relative;}#sk-container-id-11 div.sk-item::before, #sk-container-id-11 div.sk-parallel-item::before {content: \"\";position: absolute;border-left: 1px solid gray;box-sizing: border-box;top: 0;bottom: 0;left: 50%;z-index: -1;}#sk-container-id-11 div.sk-parallel-item {display: flex;flex-direction: column;z-index: 1;position: relative;background-color: white;}#sk-container-id-11 div.sk-parallel-item:first-child::after {align-self: flex-end;width: 50%;}#sk-container-id-11 div.sk-parallel-item:last-child::after {align-self: flex-start;width: 50%;}#sk-container-id-11 div.sk-parallel-item:only-child::after {width: 0;}#sk-container-id-11 div.sk-dashed-wrapped {border: 1px dashed gray;margin: 0 0.4em 0.5em 0.4em;box-sizing: border-box;padding-bottom: 0.4em;background-color: white;}#sk-container-id-11 div.sk-label label {font-family: monospace;font-weight: bold;display: inline-block;line-height: 1.2em;}#sk-container-id-11 div.sk-label-container {text-align: center;}#sk-container-id-11 div.sk-container {/* jupyter's `normalize.less` sets `[hidden] { display: none; }` but bootstrap.min.css set `[hidden] { display: none !important; }` so we also need the `!important` here to be able to override the default hidden behavior on the sphinx rendered scikit-learn.org. See: https://github.com/scikit-learn/scikit-learn/issues/21755 */display: inline-block !important;position: relative;}#sk-container-id-11 div.sk-text-repr-fallback {display: none;}</style><div id=\"sk-container-id-11\" class=\"sk-top-container\"><div class=\"sk-text-repr-fallback\"><pre>BaggingClassifier(base_estimator=KNeighborsClassifier(leaf_size=20,\n",
       "                                                      n_neighbors=18),\n",
       "                  max_features=0.7, max_samples=0.8, random_state=0)</pre><b>In a Jupyter environment, please rerun this cell to show the HTML representation or trust the notebook. <br />On GitHub, the HTML representation is unable to render, please try loading this page with nbviewer.org.</b></div><div class=\"sk-container\" hidden><div class=\"sk-item sk-dashed-wrapped\"><div class=\"sk-label-container\"><div class=\"sk-label sk-toggleable\"><input class=\"sk-toggleable__control sk-hidden--visually\" id=\"sk-estimator-id-23\" type=\"checkbox\" ><label for=\"sk-estimator-id-23\" class=\"sk-toggleable__label sk-toggleable__label-arrow\">BaggingClassifier</label><div class=\"sk-toggleable__content\"><pre>BaggingClassifier(base_estimator=KNeighborsClassifier(leaf_size=20,\n",
       "                                                      n_neighbors=18),\n",
       "                  max_features=0.7, max_samples=0.8, random_state=0)</pre></div></div></div><div class=\"sk-parallel\"><div class=\"sk-parallel-item\"><div class=\"sk-item\"><div class=\"sk-label-container\"><div class=\"sk-label sk-toggleable\"><input class=\"sk-toggleable__control sk-hidden--visually\" id=\"sk-estimator-id-24\" type=\"checkbox\" ><label for=\"sk-estimator-id-24\" class=\"sk-toggleable__label sk-toggleable__label-arrow\">base_estimator: KNeighborsClassifier</label><div class=\"sk-toggleable__content\"><pre>KNeighborsClassifier(leaf_size=20, n_neighbors=18)</pre></div></div></div><div class=\"sk-serial\"><div class=\"sk-item\"><div class=\"sk-estimator sk-toggleable\"><input class=\"sk-toggleable__control sk-hidden--visually\" id=\"sk-estimator-id-25\" type=\"checkbox\" ><label for=\"sk-estimator-id-25\" class=\"sk-toggleable__label sk-toggleable__label-arrow\">KNeighborsClassifier</label><div class=\"sk-toggleable__content\"><pre>KNeighborsClassifier(leaf_size=20, n_neighbors=18)</pre></div></div></div></div></div></div></div></div></div></div>"
      ],
      "text/plain": [
       "BaggingClassifier(base_estimator=KNeighborsClassifier(leaf_size=20,\n",
       "                                                      n_neighbors=18),\n",
       "                  max_features=0.7, max_samples=0.8, random_state=0)"
      ]
     },
     "execution_count": 181,
     "metadata": {},
     "output_type": "execute_result"
    }
   ],
   "source": [
    "from sklearn.ensemble import BaggingClassifier\n",
    "\n",
    "knn_bagging = BaggingClassifier(knn_gscv.best_estimator_, max_samples=0.8, max_features=0.7, random_state=0)\n",
    "knn_bagging.fit(X_train, y_train)"
   ]
  },
  {
   "cell_type": "code",
   "execution_count": 182,
   "metadata": {},
   "outputs": [
    {
     "data": {
      "text/plain": [
       "0.6796368352788587"
      ]
     },
     "execution_count": 182,
     "metadata": {},
     "output_type": "execute_result"
    }
   ],
   "source": [
    "knn_bagging.score(X_train, y_train)"
   ]
  },
  {
   "cell_type": "code",
   "execution_count": 183,
   "metadata": {},
   "outputs": [
    {
     "data": {
      "text/plain": [
       "0.6151297625621204"
      ]
     },
     "execution_count": 183,
     "metadata": {},
     "output_type": "execute_result"
    }
   ],
   "source": [
    "knn_bagging.score(X_test, y_test)"
   ]
  },
  {
   "cell_type": "code",
   "execution_count": 184,
   "metadata": {},
   "outputs": [
    {
     "data": {
      "image/png": "[encoded data removed]",
      "text/plain": [
       "<Figure size 432x288 with 2 Axes>"
      ]
     },
     "metadata": {
      "needs_background": "light"
     },
     "output_type": "display_data"
    }
   ],
   "source": [
    "y_pred = knn_bagging.predict(X_test)\n",
    "\n",
    "CM = confusion_matrix(y_test, y_pred)\n",
    "ConfusionMatrixDisplay(confusion_matrix=CM, display_labels=classes).plot()\n",
    "plt.title('Confusion matrix')\n",
    "plt.show()"
   ]
  },
  {
   "cell_type": "code",
   "execution_count": 185,
   "metadata": {},
   "outputs": [
    {
     "data": {
      "image/png": "[encoded data removed]",
      "text/plain": [
       "<Figure size 432x288 with 2 Axes>"
      ]
     },
     "metadata": {
      "needs_background": "light"
     },
     "output_type": "display_data"
    }
   ],
   "source": [
    "ConfusionMatrixDisplay(confusion_matrix=CM_norm, display_labels=classes).plot()\n",
    "plt.title('Confusion matrix normalized')\n",
    "plt.show()"
   ]
  },
  {
   "cell_type": "code",
   "execution_count": 186,
   "metadata": {},
   "outputs": [
    {
     "name": "stdout",
     "output_type": "stream",
     "text": [
      "Model Performance\n",
      "Accuracy = 0.615%.\n",
      "Model Performance\n",
      "Accuracy = 0.625%.\n",
      "Improvement of -1.503%.\n"
     ]
    }
   ],
   "source": [
    "def evaluate(model, test_features, test_labels):\n",
    "    accuracy = model.score(test_features, test_labels)\n",
    "    print('Model Performance')\n",
    "    print('Accuracy = {:0.3f}%.'.format(accuracy))\n",
    "    \n",
    "    return accuracy\n",
    "\n",
    "bagging_accuracy = evaluate(knn_bagging, X_test, y_test)\n",
    "\n",
    "best_random = knn_gscv.best_estimator_\n",
    "random_accuracy = evaluate(best_random, X_test, y_test)\n",
    "\n",
    "print(f'Improvement of {100 * (bagging_accuracy - random_accuracy) / random_accuracy:.3f}%.')"
   ]
  }
 ],
 "metadata": {
  "kernelspec": {
   "display_name": "Python 3.10.0 64-bit",
   "language": "python",
   "name": "python3"
  },
  "language_info": {
   "codemirror_mode": {
    "name": "ipython",
    "version": 3
   },
   "file_extension": ".py",
   "mimetype": "text/x-python",
   "name": "python",
   "nbconvert_exporter": "python",
   "pygments_lexer": "ipython3",
   "version": "3.10.0"
  },
  "orig_nbformat": 4,
  "vscode": {
   "interpreter": {
    "hash": "3e6eaf00392b0cb8b5a646d3515e821c15d6342d64f11192f7e7dc8c1b273a06"
   }
  }
 },
 "nbformat": 4,
 "nbformat_minor": 2
}
