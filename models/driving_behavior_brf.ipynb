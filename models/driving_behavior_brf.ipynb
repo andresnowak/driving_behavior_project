{
 "cells": [
  {
   "cell_type": "markdown",
   "metadata": {},
   "source": [
    "## Binary Random Forest / KNN"
   ]
  },
  {
   "cell_type": "code",
   "execution_count": 135,
   "metadata": {},
   "outputs": [],
   "source": [
    "import numpy as np\n",
    "import pandas as pd\n",
    "import seaborn as sns\n",
    "import matplotlib.pyplot as plt"
   ]
  },
  {
   "cell_type": "code",
   "execution_count": 136,
   "metadata": {},
   "outputs": [
    {
     "data": {
      "text/html": [
       "<div>\n",
       "<style scoped>\n",
       "    .dataframe tbody tr th:only-of-type {\n",
       "        vertical-align: middle;\n",
       "    }\n",
       "\n",
       "    .dataframe tbody tr th {\n",
       "        vertical-align: top;\n",
       "    }\n",
       "\n",
       "    .dataframe thead th {\n",
       "        text-align: right;\n",
       "    }\n",
       "</style>\n",
       "<table border=\"1\" class=\"dataframe\">\n",
       "  <thead>\n",
       "    <tr style=\"text-align: right;\">\n",
       "      <th></th>\n",
       "      <th>AccX</th>\n",
       "      <th>AccY</th>\n",
       "      <th>GyroZ</th>\n",
       "      <th>Class</th>\n",
       "      <th>DiffAccX</th>\n",
       "      <th>DiffAccY</th>\n",
       "      <th>VelX</th>\n",
       "      <th>VelY</th>\n",
       "    </tr>\n",
       "  </thead>\n",
       "  <tbody>\n",
       "    <tr>\n",
       "      <th>0</th>\n",
       "      <td>0.000000</td>\n",
       "      <td>0.000000</td>\n",
       "      <td>0.101938</td>\n",
       "      <td>NORMAL</td>\n",
       "      <td>0.000000</td>\n",
       "      <td>0.000000</td>\n",
       "      <td>0.000000</td>\n",
       "      <td>0.000000</td>\n",
       "    </tr>\n",
       "    <tr>\n",
       "      <th>1</th>\n",
       "      <td>0.101741</td>\n",
       "      <td>0.777568</td>\n",
       "      <td>0.054902</td>\n",
       "      <td>NORMAL</td>\n",
       "      <td>-0.636737</td>\n",
       "      <td>1.006023</td>\n",
       "      <td>0.050871</td>\n",
       "      <td>0.388784</td>\n",
       "    </tr>\n",
       "    <tr>\n",
       "      <th>2</th>\n",
       "      <td>0.158470</td>\n",
       "      <td>0.345891</td>\n",
       "      <td>0.014584</td>\n",
       "      <td>NORMAL</td>\n",
       "      <td>0.056728</td>\n",
       "      <td>-0.431676</td>\n",
       "      <td>0.079235</td>\n",
       "      <td>0.172946</td>\n",
       "    </tr>\n",
       "    <tr>\n",
       "      <th>3</th>\n",
       "      <td>0.308851</td>\n",
       "      <td>0.239022</td>\n",
       "      <td>-0.072769</td>\n",
       "      <td>NORMAL</td>\n",
       "      <td>-0.543828</td>\n",
       "      <td>0.655800</td>\n",
       "      <td>0.154425</td>\n",
       "      <td>0.119511</td>\n",
       "    </tr>\n",
       "    <tr>\n",
       "      <th>4</th>\n",
       "      <td>0.163595</td>\n",
       "      <td>0.475107</td>\n",
       "      <td>-0.061163</td>\n",
       "      <td>NORMAL</td>\n",
       "      <td>0.768208</td>\n",
       "      <td>-0.365124</td>\n",
       "      <td>0.081798</td>\n",
       "      <td>0.237554</td>\n",
       "    </tr>\n",
       "    <tr>\n",
       "      <th>...</th>\n",
       "      <td>...</td>\n",
       "      <td>...</td>\n",
       "      <td>...</td>\n",
       "      <td>...</td>\n",
       "      <td>...</td>\n",
       "      <td>...</td>\n",
       "      <td>...</td>\n",
       "      <td>...</td>\n",
       "    </tr>\n",
       "    <tr>\n",
       "      <th>965</th>\n",
       "      <td>0.872744</td>\n",
       "      <td>0.801287</td>\n",
       "      <td>-0.139964</td>\n",
       "      <td>SLOW</td>\n",
       "      <td>-0.857083</td>\n",
       "      <td>0.085469</td>\n",
       "      <td>0.436372</td>\n",
       "      <td>0.400644</td>\n",
       "    </tr>\n",
       "    <tr>\n",
       "      <th>966</th>\n",
       "      <td>1.464669</td>\n",
       "      <td>0.226299</td>\n",
       "      <td>-0.170508</td>\n",
       "      <td>SLOW</td>\n",
       "      <td>0.591925</td>\n",
       "      <td>-0.574988</td>\n",
       "      <td>0.732334</td>\n",
       "      <td>0.113149</td>\n",
       "    </tr>\n",
       "    <tr>\n",
       "      <th>967</th>\n",
       "      <td>1.587379</td>\n",
       "      <td>0.583067</td>\n",
       "      <td>-0.196164</td>\n",
       "      <td>SLOW</td>\n",
       "      <td>0.122710</td>\n",
       "      <td>0.356769</td>\n",
       "      <td>0.793690</td>\n",
       "      <td>0.291534</td>\n",
       "    </tr>\n",
       "    <tr>\n",
       "      <th>968</th>\n",
       "      <td>0.319258</td>\n",
       "      <td>0.272088</td>\n",
       "      <td>-0.062385</td>\n",
       "      <td>SLOW</td>\n",
       "      <td>-0.383045</td>\n",
       "      <td>1.202910</td>\n",
       "      <td>0.159629</td>\n",
       "      <td>0.136044</td>\n",
       "    </tr>\n",
       "    <tr>\n",
       "      <th>969</th>\n",
       "      <td>0.402702</td>\n",
       "      <td>0.432955</td>\n",
       "      <td>0.362167</td>\n",
       "      <td>SLOW</td>\n",
       "      <td>0.083444</td>\n",
       "      <td>0.160867</td>\n",
       "      <td>0.201351</td>\n",
       "      <td>0.216477</td>\n",
       "    </tr>\n",
       "  </tbody>\n",
       "</table>\n",
       "<p>970 rows × 8 columns</p>\n",
       "</div>"
      ],
      "text/plain": [
       "         AccX      AccY     GyroZ   Class  DiffAccX  DiffAccY      VelX  \\\n",
       "0    0.000000  0.000000  0.101938  NORMAL  0.000000  0.000000  0.000000   \n",
       "1    0.101741  0.777568  0.054902  NORMAL -0.636737  1.006023  0.050871   \n",
       "2    0.158470  0.345891  0.014584  NORMAL  0.056728 -0.431676  0.079235   \n",
       "3    0.308851  0.239022 -0.072769  NORMAL -0.543828  0.655800  0.154425   \n",
       "4    0.163595  0.475107 -0.061163  NORMAL  0.768208 -0.365124  0.081798   \n",
       "..        ...       ...       ...     ...       ...       ...       ...   \n",
       "965  0.872744  0.801287 -0.139964    SLOW -0.857083  0.085469  0.436372   \n",
       "966  1.464669  0.226299 -0.170508    SLOW  0.591925 -0.574988  0.732334   \n",
       "967  1.587379  0.583067 -0.196164    SLOW  0.122710  0.356769  0.793690   \n",
       "968  0.319258  0.272088 -0.062385    SLOW -0.383045  1.202910  0.159629   \n",
       "969  0.402702  0.432955  0.362167    SLOW  0.083444  0.160867  0.201351   \n",
       "\n",
       "         VelY  \n",
       "0    0.000000  \n",
       "1    0.388784  \n",
       "2    0.172946  \n",
       "3    0.119511  \n",
       "4    0.237554  \n",
       "..        ...  \n",
       "965  0.400644  \n",
       "966  0.113149  \n",
       "967  0.291534  \n",
       "968  0.136044  \n",
       "969  0.216477  \n",
       "\n",
       "[970 rows x 8 columns]"
      ]
     },
     "execution_count": 136,
     "metadata": {},
     "output_type": "execute_result"
    }
   ],
   "source": [
    "df_train = pd.read_csv(\"../data_mod/train_motion_data.csv\")\n",
    "df_test = pd.read_csv(\"../data_mod/test_motion_data.csv\")\n",
    "\n",
    "df_train\n"
   ]
  },
  {
   "cell_type": "code",
   "execution_count": 137,
   "metadata": {},
   "outputs": [
    {
     "data": {
      "text/plain": [
       "AccX        0\n",
       "AccY        0\n",
       "GyroZ       0\n",
       "Class       0\n",
       "DiffAccX    0\n",
       "DiffAccY    0\n",
       "VelX        0\n",
       "VelY        0\n",
       "dtype: int64"
      ]
     },
     "execution_count": 137,
     "metadata": {},
     "output_type": "execute_result"
    }
   ],
   "source": [
    "df_train.isna().sum()"
   ]
  },
  {
   "cell_type": "markdown",
   "metadata": {},
   "source": [
    "### Change categories to numbers"
   ]
  },
  {
   "cell_type": "code",
   "execution_count": 138,
   "metadata": {},
   "outputs": [
    {
     "data": {
      "text/html": [
       "<div>\n",
       "<style scoped>\n",
       "    .dataframe tbody tr th:only-of-type {\n",
       "        vertical-align: middle;\n",
       "    }\n",
       "\n",
       "    .dataframe tbody tr th {\n",
       "        vertical-align: top;\n",
       "    }\n",
       "\n",
       "    .dataframe thead th {\n",
       "        text-align: right;\n",
       "    }\n",
       "</style>\n",
       "<table border=\"1\" class=\"dataframe\">\n",
       "  <thead>\n",
       "    <tr style=\"text-align: right;\">\n",
       "      <th></th>\n",
       "      <th>AccX</th>\n",
       "      <th>AccY</th>\n",
       "      <th>GyroZ</th>\n",
       "      <th>Class</th>\n",
       "      <th>DiffAccX</th>\n",
       "      <th>DiffAccY</th>\n",
       "      <th>VelX</th>\n",
       "      <th>VelY</th>\n",
       "    </tr>\n",
       "  </thead>\n",
       "  <tbody>\n",
       "    <tr>\n",
       "      <th>0</th>\n",
       "      <td>0.000000</td>\n",
       "      <td>0.000000</td>\n",
       "      <td>0.101938</td>\n",
       "      <td>0</td>\n",
       "      <td>0.000000</td>\n",
       "      <td>0.000000</td>\n",
       "      <td>0.000000</td>\n",
       "      <td>0.000000</td>\n",
       "    </tr>\n",
       "    <tr>\n",
       "      <th>1</th>\n",
       "      <td>0.101741</td>\n",
       "      <td>0.777568</td>\n",
       "      <td>0.054902</td>\n",
       "      <td>0</td>\n",
       "      <td>-0.636737</td>\n",
       "      <td>1.006023</td>\n",
       "      <td>0.050871</td>\n",
       "      <td>0.388784</td>\n",
       "    </tr>\n",
       "    <tr>\n",
       "      <th>2</th>\n",
       "      <td>0.158470</td>\n",
       "      <td>0.345891</td>\n",
       "      <td>0.014584</td>\n",
       "      <td>0</td>\n",
       "      <td>0.056728</td>\n",
       "      <td>-0.431676</td>\n",
       "      <td>0.079235</td>\n",
       "      <td>0.172946</td>\n",
       "    </tr>\n",
       "    <tr>\n",
       "      <th>3</th>\n",
       "      <td>0.308851</td>\n",
       "      <td>0.239022</td>\n",
       "      <td>-0.072769</td>\n",
       "      <td>0</td>\n",
       "      <td>-0.543828</td>\n",
       "      <td>0.655800</td>\n",
       "      <td>0.154425</td>\n",
       "      <td>0.119511</td>\n",
       "    </tr>\n",
       "    <tr>\n",
       "      <th>4</th>\n",
       "      <td>0.163595</td>\n",
       "      <td>0.475107</td>\n",
       "      <td>-0.061163</td>\n",
       "      <td>0</td>\n",
       "      <td>0.768208</td>\n",
       "      <td>-0.365124</td>\n",
       "      <td>0.081798</td>\n",
       "      <td>0.237554</td>\n",
       "    </tr>\n",
       "    <tr>\n",
       "      <th>...</th>\n",
       "      <td>...</td>\n",
       "      <td>...</td>\n",
       "      <td>...</td>\n",
       "      <td>...</td>\n",
       "      <td>...</td>\n",
       "      <td>...</td>\n",
       "      <td>...</td>\n",
       "      <td>...</td>\n",
       "    </tr>\n",
       "    <tr>\n",
       "      <th>965</th>\n",
       "      <td>0.872744</td>\n",
       "      <td>0.801287</td>\n",
       "      <td>-0.139964</td>\n",
       "      <td>1</td>\n",
       "      <td>-0.857083</td>\n",
       "      <td>0.085469</td>\n",
       "      <td>0.436372</td>\n",
       "      <td>0.400644</td>\n",
       "    </tr>\n",
       "    <tr>\n",
       "      <th>966</th>\n",
       "      <td>1.464669</td>\n",
       "      <td>0.226299</td>\n",
       "      <td>-0.170508</td>\n",
       "      <td>1</td>\n",
       "      <td>0.591925</td>\n",
       "      <td>-0.574988</td>\n",
       "      <td>0.732334</td>\n",
       "      <td>0.113149</td>\n",
       "    </tr>\n",
       "    <tr>\n",
       "      <th>967</th>\n",
       "      <td>1.587379</td>\n",
       "      <td>0.583067</td>\n",
       "      <td>-0.196164</td>\n",
       "      <td>1</td>\n",
       "      <td>0.122710</td>\n",
       "      <td>0.356769</td>\n",
       "      <td>0.793690</td>\n",
       "      <td>0.291534</td>\n",
       "    </tr>\n",
       "    <tr>\n",
       "      <th>968</th>\n",
       "      <td>0.319258</td>\n",
       "      <td>0.272088</td>\n",
       "      <td>-0.062385</td>\n",
       "      <td>1</td>\n",
       "      <td>-0.383045</td>\n",
       "      <td>1.202910</td>\n",
       "      <td>0.159629</td>\n",
       "      <td>0.136044</td>\n",
       "    </tr>\n",
       "    <tr>\n",
       "      <th>969</th>\n",
       "      <td>0.402702</td>\n",
       "      <td>0.432955</td>\n",
       "      <td>0.362167</td>\n",
       "      <td>1</td>\n",
       "      <td>0.083444</td>\n",
       "      <td>0.160867</td>\n",
       "      <td>0.201351</td>\n",
       "      <td>0.216477</td>\n",
       "    </tr>\n",
       "  </tbody>\n",
       "</table>\n",
       "<p>970 rows × 8 columns</p>\n",
       "</div>"
      ],
      "text/plain": [
       "         AccX      AccY     GyroZ  Class  DiffAccX  DiffAccY      VelX  \\\n",
       "0    0.000000  0.000000  0.101938      0  0.000000  0.000000  0.000000   \n",
       "1    0.101741  0.777568  0.054902      0 -0.636737  1.006023  0.050871   \n",
       "2    0.158470  0.345891  0.014584      0  0.056728 -0.431676  0.079235   \n",
       "3    0.308851  0.239022 -0.072769      0 -0.543828  0.655800  0.154425   \n",
       "4    0.163595  0.475107 -0.061163      0  0.768208 -0.365124  0.081798   \n",
       "..        ...       ...       ...    ...       ...       ...       ...   \n",
       "965  0.872744  0.801287 -0.139964      1 -0.857083  0.085469  0.436372   \n",
       "966  1.464669  0.226299 -0.170508      1  0.591925 -0.574988  0.732334   \n",
       "967  1.587379  0.583067 -0.196164      1  0.122710  0.356769  0.793690   \n",
       "968  0.319258  0.272088 -0.062385      1 -0.383045  1.202910  0.159629   \n",
       "969  0.402702  0.432955  0.362167      1  0.083444  0.160867  0.201351   \n",
       "\n",
       "         VelY  \n",
       "0    0.000000  \n",
       "1    0.388784  \n",
       "2    0.172946  \n",
       "3    0.119511  \n",
       "4    0.237554  \n",
       "..        ...  \n",
       "965  0.400644  \n",
       "966  0.113149  \n",
       "967  0.291534  \n",
       "968  0.136044  \n",
       "969  0.216477  \n",
       "\n",
       "[970 rows x 8 columns]"
      ]
     },
     "execution_count": 138,
     "metadata": {},
     "output_type": "execute_result"
    }
   ],
   "source": [
    "df_train = df_train.replace(\n",
    "    {\"Class\": {\"NORMAL\": 0, \"SLOW\": 1, \"AGGRESSIVE\": 2}})\n",
    "df_test = df_test.replace(\n",
    "    {\"Class\": {\"NORMAL\": 0, \"SLOW\": 1, \"AGGRESSIVE\": 2}})\n",
    "df_train\n"
   ]
  },
  {
   "cell_type": "markdown",
   "metadata": {},
   "source": [
    "### Remove unnecessary columns"
   ]
  },
  {
   "cell_type": "code",
   "execution_count": 139,
   "metadata": {},
   "outputs": [],
   "source": [
    "# df_train.drop(['AccZ', 'GyroX', 'GyroY', 'Timestamp'], axis=1, inplace=True)\n",
    "# df_test.drop(['AccZ', 'GyroX', 'GyroY', 'Timestamp'], axis=1, inplace=True)\n",
    "\n",
    "# df_train"
   ]
  },
  {
   "cell_type": "markdown",
   "metadata": {},
   "source": [
    "### Only select normal and aggressive values"
   ]
  },
  {
   "cell_type": "code",
   "execution_count": 140,
   "metadata": {},
   "outputs": [
    {
     "data": {
      "text/html": [
       "<div>\n",
       "<style scoped>\n",
       "    .dataframe tbody tr th:only-of-type {\n",
       "        vertical-align: middle;\n",
       "    }\n",
       "\n",
       "    .dataframe tbody tr th {\n",
       "        vertical-align: top;\n",
       "    }\n",
       "\n",
       "    .dataframe thead th {\n",
       "        text-align: right;\n",
       "    }\n",
       "</style>\n",
       "<table border=\"1\" class=\"dataframe\">\n",
       "  <thead>\n",
       "    <tr style=\"text-align: right;\">\n",
       "      <th></th>\n",
       "      <th>AccX</th>\n",
       "      <th>AccY</th>\n",
       "      <th>GyroZ</th>\n",
       "      <th>Class</th>\n",
       "      <th>DiffAccX</th>\n",
       "      <th>DiffAccY</th>\n",
       "      <th>VelX</th>\n",
       "      <th>VelY</th>\n",
       "    </tr>\n",
       "  </thead>\n",
       "  <tbody>\n",
       "    <tr>\n",
       "      <th>0</th>\n",
       "      <td>0.000000</td>\n",
       "      <td>0.000000</td>\n",
       "      <td>0.101938</td>\n",
       "      <td>0</td>\n",
       "      <td>0.000000</td>\n",
       "      <td>0.000000</td>\n",
       "      <td>0.000000</td>\n",
       "      <td>0.000000</td>\n",
       "    </tr>\n",
       "    <tr>\n",
       "      <th>1</th>\n",
       "      <td>0.101741</td>\n",
       "      <td>0.777568</td>\n",
       "      <td>0.054902</td>\n",
       "      <td>0</td>\n",
       "      <td>-0.636737</td>\n",
       "      <td>1.006023</td>\n",
       "      <td>0.050871</td>\n",
       "      <td>0.388784</td>\n",
       "    </tr>\n",
       "    <tr>\n",
       "      <th>2</th>\n",
       "      <td>0.158470</td>\n",
       "      <td>0.345891</td>\n",
       "      <td>0.014584</td>\n",
       "      <td>0</td>\n",
       "      <td>0.056728</td>\n",
       "      <td>-0.431676</td>\n",
       "      <td>0.079235</td>\n",
       "      <td>0.172946</td>\n",
       "    </tr>\n",
       "    <tr>\n",
       "      <th>3</th>\n",
       "      <td>0.308851</td>\n",
       "      <td>0.239022</td>\n",
       "      <td>-0.072769</td>\n",
       "      <td>0</td>\n",
       "      <td>-0.543828</td>\n",
       "      <td>0.655800</td>\n",
       "      <td>0.154425</td>\n",
       "      <td>0.119511</td>\n",
       "    </tr>\n",
       "    <tr>\n",
       "      <th>4</th>\n",
       "      <td>0.163595</td>\n",
       "      <td>0.475107</td>\n",
       "      <td>-0.061163</td>\n",
       "      <td>0</td>\n",
       "      <td>0.768208</td>\n",
       "      <td>-0.365124</td>\n",
       "      <td>0.081798</td>\n",
       "      <td>0.237554</td>\n",
       "    </tr>\n",
       "    <tr>\n",
       "      <th>...</th>\n",
       "      <td>...</td>\n",
       "      <td>...</td>\n",
       "      <td>...</td>\n",
       "      <td>...</td>\n",
       "      <td>...</td>\n",
       "      <td>...</td>\n",
       "      <td>...</td>\n",
       "      <td>...</td>\n",
       "    </tr>\n",
       "    <tr>\n",
       "      <th>590</th>\n",
       "      <td>2.251131</td>\n",
       "      <td>1.144779</td>\n",
       "      <td>-0.157069</td>\n",
       "      <td>2</td>\n",
       "      <td>2.343684</td>\n",
       "      <td>1.371086</td>\n",
       "      <td>1.125565</td>\n",
       "      <td>0.572390</td>\n",
       "    </tr>\n",
       "    <tr>\n",
       "      <th>591</th>\n",
       "      <td>0.835830</td>\n",
       "      <td>0.448533</td>\n",
       "      <td>-0.243812</td>\n",
       "      <td>2</td>\n",
       "      <td>-1.415301</td>\n",
       "      <td>-0.696246</td>\n",
       "      <td>0.417915</td>\n",
       "      <td>0.224266</td>\n",
       "    </tr>\n",
       "    <tr>\n",
       "      <th>592</th>\n",
       "      <td>1.737348</td>\n",
       "      <td>0.775190</td>\n",
       "      <td>-0.179060</td>\n",
       "      <td>2</td>\n",
       "      <td>0.798653</td>\n",
       "      <td>1.006152</td>\n",
       "      <td>0.868674</td>\n",
       "      <td>0.387595</td>\n",
       "    </tr>\n",
       "    <tr>\n",
       "      <th>593</th>\n",
       "      <td>0.893512</td>\n",
       "      <td>1.587903</td>\n",
       "      <td>-0.058719</td>\n",
       "      <td>2</td>\n",
       "      <td>0.817109</td>\n",
       "      <td>1.925164</td>\n",
       "      <td>0.446756</td>\n",
       "      <td>0.793952</td>\n",
       "    </tr>\n",
       "    <tr>\n",
       "      <th>594</th>\n",
       "      <td>0.323433</td>\n",
       "      <td>0.589311</td>\n",
       "      <td>0.639500</td>\n",
       "      <td>2</td>\n",
       "      <td>-1.355486</td>\n",
       "      <td>1.981439</td>\n",
       "      <td>0.161716</td>\n",
       "      <td>0.294656</td>\n",
       "    </tr>\n",
       "  </tbody>\n",
       "</table>\n",
       "<p>595 rows × 8 columns</p>\n",
       "</div>"
      ],
      "text/plain": [
       "         AccX      AccY     GyroZ  Class  DiffAccX  DiffAccY      VelX  \\\n",
       "0    0.000000  0.000000  0.101938      0  0.000000  0.000000  0.000000   \n",
       "1    0.101741  0.777568  0.054902      0 -0.636737  1.006023  0.050871   \n",
       "2    0.158470  0.345891  0.014584      0  0.056728 -0.431676  0.079235   \n",
       "3    0.308851  0.239022 -0.072769      0 -0.543828  0.655800  0.154425   \n",
       "4    0.163595  0.475107 -0.061163      0  0.768208 -0.365124  0.081798   \n",
       "..        ...       ...       ...    ...       ...       ...       ...   \n",
       "590  2.251131  1.144779 -0.157069      2  2.343684  1.371086  1.125565   \n",
       "591  0.835830  0.448533 -0.243812      2 -1.415301 -0.696246  0.417915   \n",
       "592  1.737348  0.775190 -0.179060      2  0.798653  1.006152  0.868674   \n",
       "593  0.893512  1.587903 -0.058719      2  0.817109  1.925164  0.446756   \n",
       "594  0.323433  0.589311  0.639500      2 -1.355486  1.981439  0.161716   \n",
       "\n",
       "         VelY  \n",
       "0    0.000000  \n",
       "1    0.388784  \n",
       "2    0.172946  \n",
       "3    0.119511  \n",
       "4    0.237554  \n",
       "..        ...  \n",
       "590  0.572390  \n",
       "591  0.224266  \n",
       "592  0.387595  \n",
       "593  0.793952  \n",
       "594  0.294656  \n",
       "\n",
       "[595 rows x 8 columns]"
      ]
     },
     "execution_count": 140,
     "metadata": {},
     "output_type": "execute_result"
    }
   ],
   "source": [
    "df_train = df_train.loc[df_train['Class'] != 1]\n",
    "df_test = df_test.loc[df_test['Class'] != 1]\n",
    "\n",
    "df_train"
   ]
  },
  {
   "cell_type": "code",
   "execution_count": 141,
   "metadata": {},
   "outputs": [],
   "source": [
    "X_train = df_train.drop(columns=[\"Class\"])\n",
    "y_train = df_train['Class']\n",
    "\n",
    "X_test = df_test.drop(columns=[\"Class\"])\n",
    "y_test = df_test['Class']"
   ]
  },
  {
   "cell_type": "markdown",
   "metadata": {},
   "source": [
    "### Normalize data"
   ]
  },
  {
   "cell_type": "code",
   "execution_count": 142,
   "metadata": {},
   "outputs": [
    {
     "data": {
      "text/html": [
       "<div>\n",
       "<style scoped>\n",
       "    .dataframe tbody tr th:only-of-type {\n",
       "        vertical-align: middle;\n",
       "    }\n",
       "\n",
       "    .dataframe tbody tr th {\n",
       "        vertical-align: top;\n",
       "    }\n",
       "\n",
       "    .dataframe thead th {\n",
       "        text-align: right;\n",
       "    }\n",
       "</style>\n",
       "<table border=\"1\" class=\"dataframe\">\n",
       "  <thead>\n",
       "    <tr style=\"text-align: right;\">\n",
       "      <th></th>\n",
       "      <th>AccX</th>\n",
       "      <th>AccY</th>\n",
       "      <th>GyroZ</th>\n",
       "      <th>DiffAccX</th>\n",
       "      <th>DiffAccY</th>\n",
       "      <th>VelX</th>\n",
       "      <th>VelY</th>\n",
       "    </tr>\n",
       "  </thead>\n",
       "  <tbody>\n",
       "    <tr>\n",
       "      <th>0</th>\n",
       "      <td>-112.259505</td>\n",
       "      <td>-113.126599</td>\n",
       "      <td>114.530826</td>\n",
       "      <td>-53.626286</td>\n",
       "      <td>-61.735289</td>\n",
       "      <td>-112.259505</td>\n",
       "      <td>-113.126599</td>\n",
       "    </tr>\n",
       "    <tr>\n",
       "      <th>1</th>\n",
       "      <td>-98.990521</td>\n",
       "      <td>1.736333</td>\n",
       "      <td>69.974799</td>\n",
       "      <td>-118.009186</td>\n",
       "      <td>36.103370</td>\n",
       "      <td>-98.990521</td>\n",
       "      <td>1.736333</td>\n",
       "    </tr>\n",
       "    <tr>\n",
       "      <th>2</th>\n",
       "      <td>-91.592040</td>\n",
       "      <td>-62.031275</td>\n",
       "      <td>31.783917</td>\n",
       "      <td>-47.890255</td>\n",
       "      <td>-103.717074</td>\n",
       "      <td>-91.592040</td>\n",
       "      <td>-62.031275</td>\n",
       "    </tr>\n",
       "    <tr>\n",
       "      <th>3</th>\n",
       "      <td>-71.979452</td>\n",
       "      <td>-77.818022</td>\n",
       "      <td>-50.962992</td>\n",
       "      <td>-108.614796</td>\n",
       "      <td>2.043186</td>\n",
       "      <td>-71.979452</td>\n",
       "      <td>-77.818022</td>\n",
       "    </tr>\n",
       "    <tr>\n",
       "      <th>4</th>\n",
       "      <td>-90.923528</td>\n",
       "      <td>-42.943388</td>\n",
       "      <td>-39.968647</td>\n",
       "      <td>24.050135</td>\n",
       "      <td>-97.244611</td>\n",
       "      <td>-90.923528</td>\n",
       "      <td>-42.943388</td>\n",
       "    </tr>\n",
       "    <tr>\n",
       "      <th>...</th>\n",
       "      <td>...</td>\n",
       "      <td>...</td>\n",
       "      <td>...</td>\n",
       "      <td>...</td>\n",
       "      <td>...</td>\n",
       "      <td>...</td>\n",
       "      <td>...</td>\n",
       "    </tr>\n",
       "    <tr>\n",
       "      <th>590</th>\n",
       "      <td>181.331076</td>\n",
       "      <td>55.981150</td>\n",
       "      <td>-130.816660</td>\n",
       "      <td>183.352460</td>\n",
       "      <td>71.606804</td>\n",
       "      <td>181.331076</td>\n",
       "      <td>55.981150</td>\n",
       "    </tr>\n",
       "    <tr>\n",
       "      <th>591</th>\n",
       "      <td>-3.251245</td>\n",
       "      <td>-46.868949</td>\n",
       "      <td>-212.984917</td>\n",
       "      <td>-196.732705</td>\n",
       "      <td>-129.447266</td>\n",
       "      <td>-3.251245</td>\n",
       "      <td>-46.868949</td>\n",
       "    </tr>\n",
       "    <tr>\n",
       "      <th>592</th>\n",
       "      <td>114.323949</td>\n",
       "      <td>1.385121</td>\n",
       "      <td>-151.648052</td>\n",
       "      <td>27.128507</td>\n",
       "      <td>36.115876</td>\n",
       "      <td>114.323949</td>\n",
       "      <td>1.385121</td>\n",
       "    </tr>\n",
       "    <tr>\n",
       "      <th>593</th>\n",
       "      <td>4.271540</td>\n",
       "      <td>121.439825</td>\n",
       "      <td>-37.654052</td>\n",
       "      <td>28.994734</td>\n",
       "      <td>125.492451</td>\n",
       "      <td>4.271540</td>\n",
       "      <td>121.439825</td>\n",
       "    </tr>\n",
       "    <tr>\n",
       "      <th>594</th>\n",
       "      <td>-70.077695</td>\n",
       "      <td>-26.073035</td>\n",
       "      <td>623.742585</td>\n",
       "      <td>-190.684579</td>\n",
       "      <td>130.965359</td>\n",
       "      <td>-70.077695</td>\n",
       "      <td>-26.073035</td>\n",
       "    </tr>\n",
       "  </tbody>\n",
       "</table>\n",
       "<p>595 rows × 7 columns</p>\n",
       "</div>"
      ],
      "text/plain": [
       "           AccX        AccY       GyroZ    DiffAccX    DiffAccY        VelX  \\\n",
       "0   -112.259505 -113.126599  114.530826  -53.626286  -61.735289 -112.259505   \n",
       "1    -98.990521    1.736333   69.974799 -118.009186   36.103370  -98.990521   \n",
       "2    -91.592040  -62.031275   31.783917  -47.890255 -103.717074  -91.592040   \n",
       "3    -71.979452  -77.818022  -50.962992 -108.614796    2.043186  -71.979452   \n",
       "4    -90.923528  -42.943388  -39.968647   24.050135  -97.244611  -90.923528   \n",
       "..          ...         ...         ...         ...         ...         ...   \n",
       "590  181.331076   55.981150 -130.816660  183.352460   71.606804  181.331076   \n",
       "591   -3.251245  -46.868949 -212.984917 -196.732705 -129.447266   -3.251245   \n",
       "592  114.323949    1.385121 -151.648052   27.128507   36.115876  114.323949   \n",
       "593    4.271540  121.439825  -37.654052   28.994734  125.492451    4.271540   \n",
       "594  -70.077695  -26.073035  623.742585 -190.684579  130.965359  -70.077695   \n",
       "\n",
       "           VelY  \n",
       "0   -113.126599  \n",
       "1      1.736333  \n",
       "2    -62.031275  \n",
       "3    -77.818022  \n",
       "4    -42.943388  \n",
       "..          ...  \n",
       "590   55.981150  \n",
       "591  -46.868949  \n",
       "592    1.385121  \n",
       "593  121.439825  \n",
       "594  -26.073035  \n",
       "\n",
       "[595 rows x 7 columns]"
      ]
     },
     "execution_count": 142,
     "metadata": {},
     "output_type": "execute_result"
    }
   ],
   "source": [
    "X_train = (X_train - X_train.mean()) / X_train.std() * 100\n",
    "X_test = (X_test - X_test.mean()) / X_test.std() * 100\n",
    "\n",
    "X_train"
   ]
  },
  {
   "cell_type": "markdown",
   "metadata": {},
   "source": [
    "## Train model"
   ]
  },
  {
   "cell_type": "markdown",
   "metadata": {},
   "source": [
    "### Random Forest"
   ]
  },
  {
   "cell_type": "code",
   "execution_count": 143,
   "metadata": {},
   "outputs": [],
   "source": [
    "from sklearn.ensemble import RandomForestClassifier\n",
    "from sklearn.model_selection import GridSearchCV, RandomizedSearchCV\n",
    "from sklearn.metrics import confusion_matrix, ConfusionMatrixDisplay"
   ]
  },
  {
   "cell_type": "code",
   "execution_count": 144,
   "metadata": {},
   "outputs": [
    {
     "data": {
      "text/html": [
       "<style>#sk-container-id-14 {color: black;background-color: white;}#sk-container-id-14 pre{padding: 0;}#sk-container-id-14 div.sk-toggleable {background-color: white;}#sk-container-id-14 label.sk-toggleable__label {cursor: pointer;display: block;width: 100%;margin-bottom: 0;padding: 0.3em;box-sizing: border-box;text-align: center;}#sk-container-id-14 label.sk-toggleable__label-arrow:before {content: \"▸\";float: left;margin-right: 0.25em;color: #696969;}#sk-container-id-14 label.sk-toggleable__label-arrow:hover:before {color: black;}#sk-container-id-14 div.sk-estimator:hover label.sk-toggleable__label-arrow:before {color: black;}#sk-container-id-14 div.sk-toggleable__content {max-height: 0;max-width: 0;overflow: hidden;text-align: left;background-color: #f0f8ff;}#sk-container-id-14 div.sk-toggleable__content pre {margin: 0.2em;color: black;border-radius: 0.25em;background-color: #f0f8ff;}#sk-container-id-14 input.sk-toggleable__control:checked~div.sk-toggleable__content {max-height: 200px;max-width: 100%;overflow: auto;}#sk-container-id-14 input.sk-toggleable__control:checked~label.sk-toggleable__label-arrow:before {content: \"▾\";}#sk-container-id-14 div.sk-estimator input.sk-toggleable__control:checked~label.sk-toggleable__label {background-color: #d4ebff;}#sk-container-id-14 div.sk-label input.sk-toggleable__control:checked~label.sk-toggleable__label {background-color: #d4ebff;}#sk-container-id-14 input.sk-hidden--visually {border: 0;clip: rect(1px 1px 1px 1px);clip: rect(1px, 1px, 1px, 1px);height: 1px;margin: -1px;overflow: hidden;padding: 0;position: absolute;width: 1px;}#sk-container-id-14 div.sk-estimator {font-family: monospace;background-color: #f0f8ff;border: 1px dotted black;border-radius: 0.25em;box-sizing: border-box;margin-bottom: 0.5em;}#sk-container-id-14 div.sk-estimator:hover {background-color: #d4ebff;}#sk-container-id-14 div.sk-parallel-item::after {content: \"\";width: 100%;border-bottom: 1px solid gray;flex-grow: 1;}#sk-container-id-14 div.sk-label:hover label.sk-toggleable__label {background-color: #d4ebff;}#sk-container-id-14 div.sk-serial::before {content: \"\";position: absolute;border-left: 1px solid gray;box-sizing: border-box;top: 0;bottom: 0;left: 50%;z-index: 0;}#sk-container-id-14 div.sk-serial {display: flex;flex-direction: column;align-items: center;background-color: white;padding-right: 0.2em;padding-left: 0.2em;position: relative;}#sk-container-id-14 div.sk-item {position: relative;z-index: 1;}#sk-container-id-14 div.sk-parallel {display: flex;align-items: stretch;justify-content: center;background-color: white;position: relative;}#sk-container-id-14 div.sk-item::before, #sk-container-id-14 div.sk-parallel-item::before {content: \"\";position: absolute;border-left: 1px solid gray;box-sizing: border-box;top: 0;bottom: 0;left: 50%;z-index: -1;}#sk-container-id-14 div.sk-parallel-item {display: flex;flex-direction: column;z-index: 1;position: relative;background-color: white;}#sk-container-id-14 div.sk-parallel-item:first-child::after {align-self: flex-end;width: 50%;}#sk-container-id-14 div.sk-parallel-item:last-child::after {align-self: flex-start;width: 50%;}#sk-container-id-14 div.sk-parallel-item:only-child::after {width: 0;}#sk-container-id-14 div.sk-dashed-wrapped {border: 1px dashed gray;margin: 0 0.4em 0.5em 0.4em;box-sizing: border-box;padding-bottom: 0.4em;background-color: white;}#sk-container-id-14 div.sk-label label {font-family: monospace;font-weight: bold;display: inline-block;line-height: 1.2em;}#sk-container-id-14 div.sk-label-container {text-align: center;}#sk-container-id-14 div.sk-container {/* jupyter's `normalize.less` sets `[hidden] { display: none; }` but bootstrap.min.css set `[hidden] { display: none !important; }` so we also need the `!important` here to be able to override the default hidden behavior on the sphinx rendered scikit-learn.org. See: https://github.com/scikit-learn/scikit-learn/issues/21755 */display: inline-block !important;position: relative;}#sk-container-id-14 div.sk-text-repr-fallback {display: none;}</style><div id=\"sk-container-id-14\" class=\"sk-top-container\"><div class=\"sk-text-repr-fallback\"><pre>RandomForestClassifier(criterion=&#x27;entropy&#x27;, max_depth=15, n_estimators=30,\n",
       "                       random_state=5)</pre><b>In a Jupyter environment, please rerun this cell to show the HTML representation or trust the notebook. <br />On GitHub, the HTML representation is unable to render, please try loading this page with nbviewer.org.</b></div><div class=\"sk-container\" hidden><div class=\"sk-item\"><div class=\"sk-estimator sk-toggleable\"><input class=\"sk-toggleable__control sk-hidden--visually\" id=\"sk-estimator-id-34\" type=\"checkbox\" checked><label for=\"sk-estimator-id-34\" class=\"sk-toggleable__label sk-toggleable__label-arrow\">RandomForestClassifier</label><div class=\"sk-toggleable__content\"><pre>RandomForestClassifier(criterion=&#x27;entropy&#x27;, max_depth=15, n_estimators=30,\n",
       "                       random_state=5)</pre></div></div></div></div></div>"
      ],
      "text/plain": [
       "RandomForestClassifier(criterion='entropy', max_depth=15, n_estimators=30,\n",
       "                       random_state=5)"
      ]
     },
     "execution_count": 144,
     "metadata": {},
     "output_type": "execute_result"
    }
   ],
   "source": [
    "rfc = RandomForestClassifier(n_estimators=30, max_depth=15, random_state=5, criterion=\"entropy\")\n",
    "rfc.fit(X_train, y_train)"
   ]
  },
  {
   "cell_type": "code",
   "execution_count": 145,
   "metadata": {},
   "outputs": [
    {
     "data": {
      "text/plain": [
       "0.9899159663865547"
      ]
     },
     "execution_count": 145,
     "metadata": {},
     "output_type": "execute_result"
    }
   ],
   "source": [
    "rfc.score(X_train, y_train)"
   ]
  },
  {
   "cell_type": "code",
   "execution_count": 146,
   "metadata": {},
   "outputs": [
    {
     "data": {
      "text/plain": [
       "0.5483158475980121"
      ]
     },
     "execution_count": 146,
     "metadata": {},
     "output_type": "execute_result"
    }
   ],
   "source": [
    "rfc.score(X_test, y_test)"
   ]
  },
  {
   "cell_type": "code",
   "execution_count": 147,
   "metadata": {},
   "outputs": [],
   "source": [
    "classes=['NORMAL', 'AGGRESSIVE']"
   ]
  },
  {
   "cell_type": "code",
   "execution_count": 148,
   "metadata": {},
   "outputs": [
    {
     "data": {
      "image/png": "[encoded data removed]",
      "text/plain": [
       "<Figure size 432x288 with 2 Axes>"
      ]
     },
     "metadata": {
      "needs_background": "light"
     },
     "output_type": "display_data"
    }
   ],
   "source": [
    "y_pred = rfc.predict(X_test)\n",
    "\n",
    "CM = confusion_matrix(y_test, y_pred)\n",
    "ConfusionMatrixDisplay(confusion_matrix=CM, display_labels=classes).plot()\n",
    "plt.title('Normal vs Aggressive CM')\n",
    "plt.show()\n"
   ]
  },
  {
   "cell_type": "code",
   "execution_count": 149,
   "metadata": {},
   "outputs": [
    {
     "data": {
      "image/png": "[encoded data removed]",
      "text/plain": [
       "<Figure size 432x288 with 2 Axes>"
      ]
     },
     "metadata": {
      "needs_background": "light"
     },
     "output_type": "display_data"
    }
   ],
   "source": [
    "CM_norm = confusion_matrix(y_test, y_pred, normalize=\"true\")\n",
    "\n",
    "ConfusionMatrixDisplay(confusion_matrix=CM_norm, display_labels=classes).plot()\n",
    "plt.title('Normal vs Aggressive CM_norm')\n",
    "plt.show()"
   ]
  },
  {
   "cell_type": "code",
   "execution_count": 150,
   "metadata": {},
   "outputs": [
    {
     "data": {
      "text/plain": [
       "0.5483158475980121"
      ]
     },
     "execution_count": 150,
     "metadata": {},
     "output_type": "execute_result"
    }
   ],
   "source": [
    "rfc.score(X_test, y_test)"
   ]
  },
  {
   "cell_type": "code",
   "execution_count": 151,
   "metadata": {},
   "outputs": [],
   "source": [
    "rfc_imp = pd.DataFrame(rfc.feature_importances_, columns=['importance'])"
   ]
  },
  {
   "cell_type": "code",
   "execution_count": 152,
   "metadata": {},
   "outputs": [
    {
     "data": {
      "text/html": [
       "<div>\n",
       "<style scoped>\n",
       "    .dataframe tbody tr th:only-of-type {\n",
       "        vertical-align: middle;\n",
       "    }\n",
       "\n",
       "    .dataframe tbody tr th {\n",
       "        vertical-align: top;\n",
       "    }\n",
       "\n",
       "    .dataframe thead th {\n",
       "        text-align: right;\n",
       "    }\n",
       "</style>\n",
       "<table border=\"1\" class=\"dataframe\">\n",
       "  <thead>\n",
       "    <tr style=\"text-align: right;\">\n",
       "      <th></th>\n",
       "      <th>importance</th>\n",
       "    </tr>\n",
       "  </thead>\n",
       "  <tbody>\n",
       "    <tr>\n",
       "      <th>AccX</th>\n",
       "      <td>14.120372</td>\n",
       "    </tr>\n",
       "    <tr>\n",
       "      <th>AccY</th>\n",
       "      <td>13.518680</td>\n",
       "    </tr>\n",
       "    <tr>\n",
       "      <th>GyroZ</th>\n",
       "      <td>14.965620</td>\n",
       "    </tr>\n",
       "    <tr>\n",
       "      <th>DiffAccX</th>\n",
       "      <td>13.346155</td>\n",
       "    </tr>\n",
       "    <tr>\n",
       "      <th>DiffAccY</th>\n",
       "      <td>15.941248</td>\n",
       "    </tr>\n",
       "    <tr>\n",
       "      <th>VelX</th>\n",
       "      <td>15.490976</td>\n",
       "    </tr>\n",
       "    <tr>\n",
       "      <th>VelY</th>\n",
       "      <td>12.616949</td>\n",
       "    </tr>\n",
       "  </tbody>\n",
       "</table>\n",
       "</div>"
      ],
      "text/plain": [
       "          importance\n",
       "AccX       14.120372\n",
       "AccY       13.518680\n",
       "GyroZ      14.965620\n",
       "DiffAccX   13.346155\n",
       "DiffAccY   15.941248\n",
       "VelX       15.490976\n",
       "VelY       12.616949"
      ]
     },
     "execution_count": 152,
     "metadata": {},
     "output_type": "execute_result"
    }
   ],
   "source": [
    "rfc_imp['importance'] = rfc_imp['importance'] * 100\n",
    "rfc_imp = rfc_imp.set_index(X_train.columns)\n",
    "rfc_imp\n"
   ]
  },
  {
   "cell_type": "code",
   "execution_count": 153,
   "metadata": {},
   "outputs": [
    {
     "data": {
      "text/html": [
       "<div>\n",
       "<style scoped>\n",
       "    .dataframe tbody tr th:only-of-type {\n",
       "        vertical-align: middle;\n",
       "    }\n",
       "\n",
       "    .dataframe tbody tr th {\n",
       "        vertical-align: top;\n",
       "    }\n",
       "\n",
       "    .dataframe thead th {\n",
       "        text-align: right;\n",
       "    }\n",
       "</style>\n",
       "<table border=\"1\" class=\"dataframe\">\n",
       "  <thead>\n",
       "    <tr style=\"text-align: right;\">\n",
       "      <th></th>\n",
       "      <th>importance</th>\n",
       "    </tr>\n",
       "  </thead>\n",
       "  <tbody>\n",
       "    <tr>\n",
       "      <th>DiffAccY</th>\n",
       "      <td>15.941248</td>\n",
       "    </tr>\n",
       "    <tr>\n",
       "      <th>VelX</th>\n",
       "      <td>15.490976</td>\n",
       "    </tr>\n",
       "    <tr>\n",
       "      <th>GyroZ</th>\n",
       "      <td>14.965620</td>\n",
       "    </tr>\n",
       "    <tr>\n",
       "      <th>AccX</th>\n",
       "      <td>14.120372</td>\n",
       "    </tr>\n",
       "    <tr>\n",
       "      <th>AccY</th>\n",
       "      <td>13.518680</td>\n",
       "    </tr>\n",
       "    <tr>\n",
       "      <th>DiffAccX</th>\n",
       "      <td>13.346155</td>\n",
       "    </tr>\n",
       "    <tr>\n",
       "      <th>VelY</th>\n",
       "      <td>12.616949</td>\n",
       "    </tr>\n",
       "  </tbody>\n",
       "</table>\n",
       "</div>"
      ],
      "text/plain": [
       "          importance\n",
       "DiffAccY   15.941248\n",
       "VelX       15.490976\n",
       "GyroZ      14.965620\n",
       "AccX       14.120372\n",
       "AccY       13.518680\n",
       "DiffAccX   13.346155\n",
       "VelY       12.616949"
      ]
     },
     "execution_count": 153,
     "metadata": {},
     "output_type": "execute_result"
    }
   ],
   "source": [
    "rfc_imp.sort_values(by='importance', ascending=False)"
   ]
  },
  {
   "cell_type": "markdown",
   "metadata": {},
   "source": [
    "### Train model with RandomSearchCV"
   ]
  },
  {
   "cell_type": "code",
   "execution_count": 154,
   "metadata": {},
   "outputs": [],
   "source": [
    "n_estimators = np.arange(2, 200, 2)\n",
    "\n",
    "max_features = ['sqrt', None]\n",
    "\n",
    "max_depth = [int(x) for x in np.linspace(5, 20, num = 20)]\n",
    "\n",
    "min_samples_split = np.arange(2, 10)\n",
    "\n",
    "min_samples_leaf = np.arange(1, 4)\n",
    "\n",
    "bootstrap = [True, False]\n",
    "random_grid = {'n_estimators': n_estimators,\n",
    "               'max_features': max_features,\n",
    "               'max_depth': max_depth,\n",
    "               'min_samples_split': min_samples_split,\n",
    "               'min_samples_leaf': min_samples_leaf,\n",
    "               'bootstrap': bootstrap}"
   ]
  },
  {
   "cell_type": "code",
   "execution_count": null,
   "metadata": {},
   "outputs": [],
   "source": [
    "weights = {0:1, 2:2.8}\n",
    "random_forest = RandomForestClassifier(random_state=0, criterion=\"entropy\", min_impurity_decrease=0, class_weight=weights)\n",
    "\n",
    "random_gscv = RandomizedSearchCV(random_forest, random_grid, n_iter=1000, cv=5, verbose=10, n_jobs=10, random_state=0)\n",
    "random_gscv.fit(X_train, y_train)"
   ]
  },
  {
   "cell_type": "code",
   "execution_count": 156,
   "metadata": {},
   "outputs": [
    {
     "data": {
      "text/plain": [
       "{'n_estimators': 68,\n",
       " 'min_samples_split': 5,\n",
       " 'min_samples_leaf': 2,\n",
       " 'max_features': 'sqrt',\n",
       " 'max_depth': 14,\n",
       " 'bootstrap': True}"
      ]
     },
     "execution_count": 156,
     "metadata": {},
     "output_type": "execute_result"
    }
   ],
   "source": [
    "random_gscv.best_params_"
   ]
  },
  {
   "cell_type": "code",
   "execution_count": 157,
   "metadata": {},
   "outputs": [
    {
     "data": {
      "text/plain": [
       "0.5966386554621848"
      ]
     },
     "execution_count": 157,
     "metadata": {},
     "output_type": "execute_result"
    }
   ],
   "source": [
    "random_gscv.best_score_"
   ]
  },
  {
   "cell_type": "code",
   "execution_count": 158,
   "metadata": {},
   "outputs": [
    {
     "data": {
      "text/plain": [
       "0.9781512605042016"
      ]
     },
     "execution_count": 158,
     "metadata": {},
     "output_type": "execute_result"
    }
   ],
   "source": [
    "random_gscv.score(X_train, y_train)"
   ]
  },
  {
   "cell_type": "code",
   "execution_count": 159,
   "metadata": {},
   "outputs": [
    {
     "data": {
      "text/plain": [
       "0.5361678630590834"
      ]
     },
     "execution_count": 159,
     "metadata": {},
     "output_type": "execute_result"
    }
   ],
   "source": [
    "random_gscv.score(X_test, y_test)"
   ]
  },
  {
   "cell_type": "code",
   "execution_count": 160,
   "metadata": {},
   "outputs": [],
   "source": [
    "classes = [\"NORMAL\", \"AGGRESSIVE\"]"
   ]
  },
  {
   "cell_type": "code",
   "execution_count": 161,
   "metadata": {},
   "outputs": [
    {
     "data": {
      "image/png": "[encoded data removed]",
      "text/plain": [
       "<Figure size 432x288 with 2 Axes>"
      ]
     },
     "metadata": {
      "needs_background": "light"
     },
     "output_type": "display_data"
    }
   ],
   "source": [
    "y_pred = random_gscv.predict(X_test)\n",
    "\n",
    "CM = confusion_matrix(y_test, y_pred)\n",
    "ConfusionMatrixDisplay(confusion_matrix=CM, display_labels=classes).plot()\n",
    "plt.title('Confusion matrix')\n",
    "plt.show()"
   ]
  },
  {
   "cell_type": "code",
   "execution_count": 162,
   "metadata": {},
   "outputs": [
    {
     "data": {
      "image/png": "[encoded data removed]",
      "text/plain": [
       "<Figure size 432x288 with 2 Axes>"
      ]
     },
     "metadata": {
      "needs_background": "light"
     },
     "output_type": "display_data"
    }
   ],
   "source": [
    "CM_norm = confusion_matrix(y_test, y_pred, normalize=\"true\")\n",
    "\n",
    "ConfusionMatrixDisplay(confusion_matrix=CM_norm, display_labels=classes).plot()\n",
    "plt.title('Confusion matrix normalized')\n",
    "plt.show()"
   ]
  },
  {
   "cell_type": "markdown",
   "metadata": {},
   "source": [
    "#### Evaluate improvment"
   ]
  },
  {
   "cell_type": "code",
   "execution_count": 163,
   "metadata": {},
   "outputs": [
    {
     "name": "stdout",
     "output_type": "stream",
     "text": [
      "Model Performance\n",
      "Accuracy = 0.552%.\n",
      "Model Performance\n",
      "Accuracy = 0.536%.\n",
      "Improvement of -2.900%.\n"
     ]
    }
   ],
   "source": [
    "def evaluate(model, test_features, test_labels):\n",
    "    accuracy = model.score(test_features, test_labels)\n",
    "    print('Model Performance')\n",
    "    print('Accuracy = {:0.3f}%.'.format(accuracy))\n",
    "    \n",
    "    return accuracy\n",
    "\n",
    "base_model = RandomForestClassifier(n_estimators = 10, random_state=0, criterion=\"entropy\", min_impurity_decrease=0, class_weight=weights)\n",
    "base_model.fit(X_train, y_train)\n",
    "base_accuracy = evaluate(base_model, X_test, y_test)\n",
    "\n",
    "best_random = random_gscv.best_estimator_\n",
    "random_accuracy = evaluate(best_random, X_test, y_test)\n",
    "\n",
    "print(f'Improvement of {100 * (random_accuracy - base_accuracy) / base_accuracy:.3f}%.')"
   ]
  },
  {
   "cell_type": "markdown",
   "metadata": {},
   "source": [
    "### KNN"
   ]
  },
  {
   "cell_type": "code",
   "execution_count": 164,
   "metadata": {},
   "outputs": [],
   "source": [
    "from sklearn.neighbors import KNeighborsClassifier\n",
    "from sklearn.model_selection import GridSearchCV"
   ]
  },
  {
   "cell_type": "code",
   "execution_count": null,
   "metadata": {},
   "outputs": [],
   "source": [
    "Kneigh = KNeighborsClassifier(weights=\"uniform\")\n",
    "\n",
    "param_grid = {'n_neighbors': np.arange(1, 100), 'leaf_size': np.arange(20, 40)}\n",
    "\n",
    "knn_gscv = GridSearchCV(Kneigh, param_grid, cv=5, verbose=10, n_jobs=10)\n",
    "knn_gscv.fit(X_train, y_train)"
   ]
  },
  {
   "cell_type": "code",
   "execution_count": 166,
   "metadata": {},
   "outputs": [
    {
     "data": {
      "text/plain": [
       "{'leaf_size': 20, 'n_neighbors': 35}"
      ]
     },
     "execution_count": 166,
     "metadata": {},
     "output_type": "execute_result"
    }
   ],
   "source": [
    "best_params = knn_gscv.best_params_\n",
    "best_params"
   ]
  },
  {
   "cell_type": "code",
   "execution_count": 167,
   "metadata": {},
   "outputs": [
    {
     "data": {
      "text/plain": [
       "0.6201680672268909"
      ]
     },
     "execution_count": 167,
     "metadata": {},
     "output_type": "execute_result"
    }
   ],
   "source": [
    "knn_gscv.best_score_"
   ]
  },
  {
   "cell_type": "code",
   "execution_count": 168,
   "metadata": {},
   "outputs": [
    {
     "data": {
      "text/plain": [
       "0.6487394957983194"
      ]
     },
     "execution_count": 168,
     "metadata": {},
     "output_type": "execute_result"
    }
   ],
   "source": [
    "knn_gscv.score(X_train, y_train)"
   ]
  },
  {
   "cell_type": "code",
   "execution_count": 169,
   "metadata": {},
   "outputs": [
    {
     "data": {
      "text/plain": [
       "0.5698509110988405"
      ]
     },
     "execution_count": 169,
     "metadata": {},
     "output_type": "execute_result"
    }
   ],
   "source": [
    "knn_gscv.score(X_test, y_test)"
   ]
  },
  {
   "cell_type": "code",
   "execution_count": 170,
   "metadata": {},
   "outputs": [
    {
     "data": {
      "image/png": "[encoded data removed]",
      "text/plain": [
       "<Figure size 432x288 with 2 Axes>"
      ]
     },
     "metadata": {
      "needs_background": "light"
     },
     "output_type": "display_data"
    }
   ],
   "source": [
    "y_pred = knn_gscv.predict(X_test)\n",
    "\n",
    "CM = confusion_matrix(y_test, y_pred)\n",
    "ConfusionMatrixDisplay(confusion_matrix=CM, display_labels=classes).plot()\n",
    "plt.title('Confusion matrix')\n",
    "plt.show()"
   ]
  },
  {
   "cell_type": "code",
   "execution_count": 171,
   "metadata": {},
   "outputs": [
    {
     "data": {
      "image/png": "[encoded data removed]",
      "text/plain": [
       "<Figure size 432x288 with 2 Axes>"
      ]
     },
     "metadata": {
      "needs_background": "light"
     },
     "output_type": "display_data"
    }
   ],
   "source": [
    "CM_norm = confusion_matrix(y_test, y_pred, normalize=\"true\")\n",
    "\n",
    "ConfusionMatrixDisplay(confusion_matrix=CM_norm, display_labels=classes).plot()\n",
    "plt.title('Confusion matrix normalized')\n",
    "plt.show()"
   ]
  },
  {
   "cell_type": "markdown",
   "metadata": {},
   "source": [
    "#### Knn with Bagging classifier"
   ]
  },
  {
   "cell_type": "code",
   "execution_count": 172,
   "metadata": {},
   "outputs": [
    {
     "data": {
      "text/html": [
       "<style>#sk-container-id-17 {color: black;background-color: white;}#sk-container-id-17 pre{padding: 0;}#sk-container-id-17 div.sk-toggleable {background-color: white;}#sk-container-id-17 label.sk-toggleable__label {cursor: pointer;display: block;width: 100%;margin-bottom: 0;padding: 0.3em;box-sizing: border-box;text-align: center;}#sk-container-id-17 label.sk-toggleable__label-arrow:before {content: \"▸\";float: left;margin-right: 0.25em;color: #696969;}#sk-container-id-17 label.sk-toggleable__label-arrow:hover:before {color: black;}#sk-container-id-17 div.sk-estimator:hover label.sk-toggleable__label-arrow:before {color: black;}#sk-container-id-17 div.sk-toggleable__content {max-height: 0;max-width: 0;overflow: hidden;text-align: left;background-color: #f0f8ff;}#sk-container-id-17 div.sk-toggleable__content pre {margin: 0.2em;color: black;border-radius: 0.25em;background-color: #f0f8ff;}#sk-container-id-17 input.sk-toggleable__control:checked~div.sk-toggleable__content {max-height: 200px;max-width: 100%;overflow: auto;}#sk-container-id-17 input.sk-toggleable__control:checked~label.sk-toggleable__label-arrow:before {content: \"▾\";}#sk-container-id-17 div.sk-estimator input.sk-toggleable__control:checked~label.sk-toggleable__label {background-color: #d4ebff;}#sk-container-id-17 div.sk-label input.sk-toggleable__control:checked~label.sk-toggleable__label {background-color: #d4ebff;}#sk-container-id-17 input.sk-hidden--visually {border: 0;clip: rect(1px 1px 1px 1px);clip: rect(1px, 1px, 1px, 1px);height: 1px;margin: -1px;overflow: hidden;padding: 0;position: absolute;width: 1px;}#sk-container-id-17 div.sk-estimator {font-family: monospace;background-color: #f0f8ff;border: 1px dotted black;border-radius: 0.25em;box-sizing: border-box;margin-bottom: 0.5em;}#sk-container-id-17 div.sk-estimator:hover {background-color: #d4ebff;}#sk-container-id-17 div.sk-parallel-item::after {content: \"\";width: 100%;border-bottom: 1px solid gray;flex-grow: 1;}#sk-container-id-17 div.sk-label:hover label.sk-toggleable__label {background-color: #d4ebff;}#sk-container-id-17 div.sk-serial::before {content: \"\";position: absolute;border-left: 1px solid gray;box-sizing: border-box;top: 0;bottom: 0;left: 50%;z-index: 0;}#sk-container-id-17 div.sk-serial {display: flex;flex-direction: column;align-items: center;background-color: white;padding-right: 0.2em;padding-left: 0.2em;position: relative;}#sk-container-id-17 div.sk-item {position: relative;z-index: 1;}#sk-container-id-17 div.sk-parallel {display: flex;align-items: stretch;justify-content: center;background-color: white;position: relative;}#sk-container-id-17 div.sk-item::before, #sk-container-id-17 div.sk-parallel-item::before {content: \"\";position: absolute;border-left: 1px solid gray;box-sizing: border-box;top: 0;bottom: 0;left: 50%;z-index: -1;}#sk-container-id-17 div.sk-parallel-item {display: flex;flex-direction: column;z-index: 1;position: relative;background-color: white;}#sk-container-id-17 div.sk-parallel-item:first-child::after {align-self: flex-end;width: 50%;}#sk-container-id-17 div.sk-parallel-item:last-child::after {align-self: flex-start;width: 50%;}#sk-container-id-17 div.sk-parallel-item:only-child::after {width: 0;}#sk-container-id-17 div.sk-dashed-wrapped {border: 1px dashed gray;margin: 0 0.4em 0.5em 0.4em;box-sizing: border-box;padding-bottom: 0.4em;background-color: white;}#sk-container-id-17 div.sk-label label {font-family: monospace;font-weight: bold;display: inline-block;line-height: 1.2em;}#sk-container-id-17 div.sk-label-container {text-align: center;}#sk-container-id-17 div.sk-container {/* jupyter's `normalize.less` sets `[hidden] { display: none; }` but bootstrap.min.css set `[hidden] { display: none !important; }` so we also need the `!important` here to be able to override the default hidden behavior on the sphinx rendered scikit-learn.org. See: https://github.com/scikit-learn/scikit-learn/issues/21755 */display: inline-block !important;position: relative;}#sk-container-id-17 div.sk-text-repr-fallback {display: none;}</style><div id=\"sk-container-id-17\" class=\"sk-top-container\"><div class=\"sk-text-repr-fallback\"><pre>BaggingClassifier(base_estimator=KNeighborsClassifier(leaf_size=20,\n",
       "                                                      n_neighbors=35),\n",
       "                  max_features=0.8, max_samples=0.9, random_state=0)</pre><b>In a Jupyter environment, please rerun this cell to show the HTML representation or trust the notebook. <br />On GitHub, the HTML representation is unable to render, please try loading this page with nbviewer.org.</b></div><div class=\"sk-container\" hidden><div class=\"sk-item sk-dashed-wrapped\"><div class=\"sk-label-container\"><div class=\"sk-label sk-toggleable\"><input class=\"sk-toggleable__control sk-hidden--visually\" id=\"sk-estimator-id-41\" type=\"checkbox\" ><label for=\"sk-estimator-id-41\" class=\"sk-toggleable__label sk-toggleable__label-arrow\">BaggingClassifier</label><div class=\"sk-toggleable__content\"><pre>BaggingClassifier(base_estimator=KNeighborsClassifier(leaf_size=20,\n",
       "                                                      n_neighbors=35),\n",
       "                  max_features=0.8, max_samples=0.9, random_state=0)</pre></div></div></div><div class=\"sk-parallel\"><div class=\"sk-parallel-item\"><div class=\"sk-item\"><div class=\"sk-label-container\"><div class=\"sk-label sk-toggleable\"><input class=\"sk-toggleable__control sk-hidden--visually\" id=\"sk-estimator-id-42\" type=\"checkbox\" ><label for=\"sk-estimator-id-42\" class=\"sk-toggleable__label sk-toggleable__label-arrow\">base_estimator: KNeighborsClassifier</label><div class=\"sk-toggleable__content\"><pre>KNeighborsClassifier(leaf_size=20, n_neighbors=35)</pre></div></div></div><div class=\"sk-serial\"><div class=\"sk-item\"><div class=\"sk-estimator sk-toggleable\"><input class=\"sk-toggleable__control sk-hidden--visually\" id=\"sk-estimator-id-43\" type=\"checkbox\" ><label for=\"sk-estimator-id-43\" class=\"sk-toggleable__label sk-toggleable__label-arrow\">KNeighborsClassifier</label><div class=\"sk-toggleable__content\"><pre>KNeighborsClassifier(leaf_size=20, n_neighbors=35)</pre></div></div></div></div></div></div></div></div></div></div>"
      ],
      "text/plain": [
       "BaggingClassifier(base_estimator=KNeighborsClassifier(leaf_size=20,\n",
       "                                                      n_neighbors=35),\n",
       "                  max_features=0.8, max_samples=0.9, random_state=0)"
      ]
     },
     "execution_count": 172,
     "metadata": {},
     "output_type": "execute_result"
    }
   ],
   "source": [
    "from sklearn.ensemble import BaggingClassifier\n",
    "\n",
    "knn_bagging = BaggingClassifier(KNeighborsClassifier(**knn_gscv.best_params_), max_samples=0.9, max_features=0.8, random_state=0)\n",
    "knn_bagging.fit(X_train, y_train)"
   ]
  },
  {
   "cell_type": "code",
   "execution_count": 173,
   "metadata": {},
   "outputs": [
    {
     "data": {
      "text/plain": [
       "0.6420168067226891"
      ]
     },
     "execution_count": 173,
     "metadata": {},
     "output_type": "execute_result"
    }
   ],
   "source": [
    "knn_bagging.score(X_train, y_train)"
   ]
  },
  {
   "cell_type": "code",
   "execution_count": 174,
   "metadata": {},
   "outputs": [
    {
     "data": {
      "text/plain": [
       "0.5731639977912756"
      ]
     },
     "execution_count": 174,
     "metadata": {},
     "output_type": "execute_result"
    }
   ],
   "source": [
    "knn_bagging.score(X_test, y_test)"
   ]
  },
  {
   "cell_type": "code",
   "execution_count": 175,
   "metadata": {},
   "outputs": [
    {
     "data": {
      "image/png": "[encoded data removed]",
      "text/plain": [
       "<Figure size 432x288 with 2 Axes>"
      ]
     },
     "metadata": {
      "needs_background": "light"
     },
     "output_type": "display_data"
    }
   ],
   "source": [
    "y_pred = knn_bagging.predict(X_test)\n",
    "\n",
    "CM = confusion_matrix(y_test, y_pred)\n",
    "ConfusionMatrixDisplay(confusion_matrix=CM, display_labels=classes).plot()\n",
    "plt.title('Confusion matrix')\n",
    "plt.show()"
   ]
  },
  {
   "cell_type": "code",
   "execution_count": 176,
   "metadata": {},
   "outputs": [
    {
     "data": {
      "image/png": "[encoded data removed]",
      "text/plain": [
       "<Figure size 432x288 with 2 Axes>"
      ]
     },
     "metadata": {
      "needs_background": "light"
     },
     "output_type": "display_data"
    }
   ],
   "source": [
    "CM_norm = confusion_matrix(y_test, y_pred, normalize=\"true\")\n",
    "\n",
    "ConfusionMatrixDisplay(confusion_matrix=CM_norm, display_labels=classes).plot()\n",
    "plt.title('Confusion matrix normalized')\n",
    "plt.show()"
   ]
  },
  {
   "cell_type": "code",
   "execution_count": 177,
   "metadata": {},
   "outputs": [
    {
     "name": "stdout",
     "output_type": "stream",
     "text": [
      "Model Performance\n",
      "Accuracy = 0.573%.\n",
      "Model Performance\n",
      "Accuracy = 0.570%.\n",
      "Improvement of 0.581%.\n"
     ]
    }
   ],
   "source": [
    "def evaluate(model, test_features, test_labels):\n",
    "    accuracy = model.score(test_features, test_labels)\n",
    "    print('Model Performance')\n",
    "    print('Accuracy = {:0.3f}%.'.format(accuracy))\n",
    "    \n",
    "    return accuracy\n",
    "\n",
    "bagging_accuracy = evaluate(knn_bagging, X_test, y_test)\n",
    "\n",
    "best_random = knn_gscv.best_estimator_\n",
    "random_accuracy = evaluate(best_random, X_test, y_test)\n",
    "\n",
    "print(f'Improvement of {100 * (bagging_accuracy - random_accuracy) / random_accuracy:.3f}%.')"
   ]
  },
  {
   "cell_type": "code",
   "execution_count": null,
   "metadata": {},
   "outputs": [],
   "source": []
  }
 ],
 "metadata": {
  "kernelspec": {
   "display_name": "Python 3.10.4 ('AI')",
   "language": "python",
   "name": "python3"
  },
  "language_info": {
   "codemirror_mode": {
    "name": "ipython",
    "version": 3
   },
   "file_extension": ".py",
   "mimetype": "text/x-python",
   "name": "python",
   "nbconvert_exporter": "python",
   "pygments_lexer": "ipython3",
   "version": "3.10.4"
  },
  "orig_nbformat": 4,
  "vscode": {
   "interpreter": {
    "hash": "d3195bcac7665d94292c51415de587dfe31631e0f2da24bab4176ae761a97102"
   }
  }
 },
 "nbformat": 4,
 "nbformat_minor": 2
}
